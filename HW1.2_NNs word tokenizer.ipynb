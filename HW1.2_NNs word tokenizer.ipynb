{
 "cells": [
  {
   "cell_type": "markdown",
   "metadata": {
    "id": "UVPuInbZGhZu"
   },
   "source": [
    "# HW1.2: Word Tokenizer##\n",
    "\n",
    "In this exercise, you are going to build a set of deep learning models on a (sort of) real world task using pyTorch. PyTorch is a deep learning framwork developed by facebook to provide an easier way to use standard layers and networks.\n",
    "\n",
    "To complete this exercise, you will need to build deep learning models for word tokenization in Thai (แบ่งเว้นวรรคภาษาไทย) using NECTEC's BEST corpus. You will build one model for each of the following type:\n",
    "- Fully Connected (Feedforward) Neural Network\n",
    "- One-Dimentional Convolution Neural Network (1D-CNN)\n",
    "- Recurrent Neural Network with Gated Recurrent Unit (GRU)\n",
    "\n",
    "and one more model of your choice to achieve the highest score possible.\n",
    "\n",
    "We provide the code for data cleaning and some starter code for PyTorch in this notebook but feel free to modify those parts to suit your needs. Feel free to use additional libraries (e.g. scikit-learn) as long as you have a model for each type mentioned above.\n",
    "\n",
    "**Don't forget to change hardware accelerator to GPU in Google Colab.**\n"
   ]
  },
  {
   "cell_type": "code",
   "execution_count": 52,
   "metadata": {
    "colab": {
     "base_uri": "https://localhost:8080/"
    },
    "executionInfo": {
     "elapsed": 107495,
     "status": "ok",
     "timestamp": 1739765394519,
     "user": {
      "displayName": "Paisit Khanarsa",
      "userId": "13279666281938719332"
     },
     "user_tz": -420
    },
    "id": "JedS4CbCO9fX",
    "outputId": "b5627e36-0d6f-4290-933e-8086539b53ec"
   },
   "outputs": [],
   "source": [
    "#pip install wandb torchsummaryX"
   ]
  },
  {
   "cell_type": "code",
   "execution_count": 53,
   "metadata": {
    "colab": {
     "base_uri": "https://localhost:8080/"
    },
    "executionInfo": {
     "elapsed": 3519,
     "status": "ok",
     "timestamp": 1739765398028,
     "user": {
      "displayName": "Paisit Khanarsa",
      "userId": "13279666281938719332"
     },
     "user_tz": -420
    },
    "id": "GZwTBzm2Rrm3",
    "outputId": "2c04e69c-be5b-4a83-8948-d3df1d0978a9"
   },
   "outputs": [],
   "source": [
    "#pip install torchinfo"
   ]
  },
  {
   "cell_type": "code",
   "execution_count": 1,
   "metadata": {
    "executionInfo": {
     "elapsed": 9525,
     "status": "ok",
     "timestamp": 1739765407547,
     "user": {
      "displayName": "Paisit Khanarsa",
      "userId": "13279666281938719332"
     },
     "user_tz": -420
    },
    "id": "Q5xZnz2pGhZx"
   },
   "outputs": [],
   "source": [
    "# Run setup code\n",
    "import os\n",
    "import numpy as np\n",
    "import pandas as pd\n",
    "import matplotlib.pyplot as plt\n",
    "import gdown\n",
    "import torch\n",
    "from sklearn.metrics import accuracy_score\n",
    "from tqdm import tqdm\n",
    "\n",
    "%matplotlib inline\n",
    "\n",
    "# To guarantee reproducible results\n",
    "torch.manual_seed(5420)\n",
    "torch.backends.cudnn.deterministic = True\n",
    "torch.backends.cudnn.benchmark = False\n",
    "np.random.seed(5420)"
   ]
  },
  {
   "cell_type": "markdown",
   "metadata": {
    "id": "j-ImbbwxPbF8"
   },
   "source": [
    "## Setup\n",
    "\n",
    "1. Register [Wandb account](https://wandb.ai/login?signup=true) (and confirm your email)\n",
    "\n",
    "2. `wandb login` and copy paste the API key when prompt"
   ]
  },
  {
   "cell_type": "code",
   "execution_count": 55,
   "metadata": {
    "colab": {
     "base_uri": "https://localhost:8080/"
    },
    "executionInfo": {
     "elapsed": 11621,
     "status": "ok",
     "timestamp": 1739765419163,
     "user": {
      "displayName": "Paisit Khanarsa",
      "userId": "13279666281938719332"
     },
     "user_tz": -420
    },
    "id": "D0piHPI1Paqv",
    "outputId": "895bebcd-463f-4527-ff9f-f14d8201fb7c"
   },
   "outputs": [],
   "source": [
    "#wandb login"
   ]
  },
  {
   "cell_type": "code",
   "execution_count": 2,
   "metadata": {
    "executionInfo": {
     "elapsed": 1372,
     "status": "ok",
     "timestamp": 1739765420531,
     "user": {
      "displayName": "Paisit Khanarsa",
      "userId": "13279666281938719332"
     },
     "user_tz": -420
    },
    "id": "ltWwwskiShqK"
   },
   "outputs": [],
   "source": [
    "import wandb"
   ]
  },
  {
   "cell_type": "code",
   "execution_count": 3,
   "metadata": {
    "colab": {
     "base_uri": "https://localhost:8080/"
    },
    "executionInfo": {
     "elapsed": 423,
     "status": "ok",
     "timestamp": 1739765422902,
     "user": {
      "displayName": "Paisit Khanarsa",
      "userId": "13279666281938719332"
     },
     "user_tz": -420
    },
    "id": "c0eeumL-M8oZ",
    "outputId": "3f9f9d74-4d1f-4372-dc70-04e28470179a"
   },
   "outputs": [
    {
     "data": {
      "text/plain": [
       "1"
      ]
     },
     "execution_count": 3,
     "metadata": {},
     "output_type": "execute_result"
    }
   ],
   "source": [
    "#Check GPU is available\n",
    "torch.cuda.device_count()"
   ]
  },
  {
   "cell_type": "code",
   "execution_count": 58,
   "metadata": {
    "colab": {
     "base_uri": "https://localhost:8080/"
    },
    "executionInfo": {
     "elapsed": 20786,
     "status": "ok",
     "timestamp": 1739765444095,
     "user": {
      "displayName": "Paisit Khanarsa",
      "userId": "13279666281938719332"
     },
     "user_tz": -420
    },
    "id": "tXv8KglJD2X0",
    "outputId": "3dee646a-bfd3-4950-8000-9988f9ff7138"
   },
   "outputs": [],
   "source": [
    "# from google.colab import drive\n",
    "# drive.mount('/content/drive')"
   ]
  },
  {
   "cell_type": "code",
   "execution_count": 59,
   "metadata": {
    "colab": {
     "base_uri": "https://localhost:8080/"
    },
    "executionInfo": {
     "elapsed": 7632,
     "status": "ok",
     "timestamp": 1739765456808,
     "user": {
      "displayName": "Paisit Khanarsa",
      "userId": "13279666281938719332"
     },
     "user_tz": -420
    },
    "id": "3-GN9NAyII9p",
    "outputId": "3089e520-7150-4664-c8db-6535397b27f8"
   },
   "outputs": [],
   "source": [
    "# tar -xvf corpora.tar.gz"
   ]
  },
  {
   "cell_type": "code",
   "execution_count": 60,
   "metadata": {
    "id": "C76gLVKeGhZ0"
   },
   "outputs": [],
   "source": [
    "# Prepare data\n",
    "# You don't need to run the following code as we already did it for you to give everyone the same dataset\n",
    "# import cattern.data_utils\n",
    "# cattern.data_utils.generate_best_dataset(os.getcwd()+'/data', create_val=True)"
   ]
  },
  {
   "cell_type": "markdown",
   "metadata": {
    "id": "VhxWFvL2GhZ3"
   },
   "source": [
    "For simplicity, we are going to build a word tokenization model which is a binary classification model trying to predict whether a character is the begining of the word or not (if it is, then there is a space in front of it) and without using any knowledge about type of character (vowel, number, English character etc.).\n",
    "\n",
    "For example,\n",
    "\n",
    "'แมวดำน่ารักมาก' -> 'แมว ดำ น่า รัก มาก'\n",
    "\n",
    "will have these true labels:\n",
    "\n",
    "[(แ,1), (ม,0), (ว,0) (ด,1), ( ำ,0), (น,1), (-่,0), (า,0), (ร,1), (-ั,0), (ก,0), (ม,1), (า,0), (ก,0)]\n",
    "\n",
    "In this task, we will use only main character you are trying to predict  and the characters that surround it (the context) as features. However, you can imagine that a more complex model will try to include more knowledge about each character into the model. You can do that too if you feel like it."
   ]
  },
  {
   "cell_type": "code",
   "execution_count": 5,
   "metadata": {
    "id": "5PIEb0TMGhZ4"
   },
   "outputs": [],
   "source": [
    "# Create a character map\n",
    "CHARS = [\n",
    "  '\\n', ' ', '!', '\"', '#', '$', '%', '&', \"'\", '(', ')', '*', '+',\n",
    "  ',', '-', '.', '/', '0', '1', '2', '3', '4', '5', '6', '7', '8',\n",
    "  '9', ':', ';', '<', '=', '>', '?', '@', 'A', 'B', 'C', 'D', 'E',\n",
    "  'F', 'G', 'H', 'I', 'J', 'K', 'L', 'M', 'N', 'O', 'P', 'Q', 'R',\n",
    "  'S', 'T', 'U', 'V', 'W', 'X', 'Y', 'Z', '[', '\\\\', ']', '^', '_',\n",
    "  'a', 'b', 'c', 'd', 'e', 'f', 'g', 'h', 'i', 'j', 'k', 'l', 'm',\n",
    "  'n', 'o', 'other', 'p', 'q', 'r', 's', 't', 'u', 'v', 'w', 'x', 'y',\n",
    "  'z', '}', '~', 'ก', 'ข', 'ฃ', 'ค', 'ฅ', 'ฆ', 'ง', 'จ', 'ฉ', 'ช',\n",
    "  'ซ', 'ฌ', 'ญ', 'ฎ', 'ฏ', 'ฐ', 'ฑ', 'ฒ', 'ณ', 'ด', 'ต', 'ถ', 'ท',\n",
    "  'ธ', 'น', 'บ', 'ป', 'ผ', 'ฝ', 'พ', 'ฟ', 'ภ', 'ม', 'ย', 'ร', 'ฤ',\n",
    "  'ล', 'ว', 'ศ', 'ษ', 'ส', 'ห', 'ฬ', 'อ', 'ฮ', 'ฯ', 'ะ', 'ั', 'า',\n",
    "  'ำ', 'ิ', 'ี', 'ึ', 'ื', 'ุ', 'ู', 'ฺ', 'เ', 'แ', 'โ', 'ใ', 'ไ',\n",
    "  'ๅ', 'ๆ', '็', '่', '้', '๊', '๋', '์', 'ํ', '๐', '๑', '๒', '๓',\n",
    "  '๔', '๕', '๖', '๗', '๘', '๙', '‘', '’', '\\ufeff'\n",
    "]\n",
    "CHARS_MAP = {v: k for k, v in enumerate(CHARS)}"
   ]
  },
  {
   "cell_type": "code",
   "execution_count": 6,
   "metadata": {
    "colab": {
     "base_uri": "https://localhost:8080/"
    },
    "executionInfo": {
     "elapsed": 568,
     "status": "ok",
     "timestamp": 1739690888298,
     "user": {
      "displayName": "Paisit Khanarsa",
      "userId": "13279666281938719332"
     },
     "user_tz": -420
    },
    "id": "Dt1VKzVop1xU",
    "outputId": "542e298d-d1a5-48a8-c2ed-0fe19461a674"
   },
   "outputs": [
    {
     "data": {
      "text/plain": [
       "178"
      ]
     },
     "execution_count": 6,
     "metadata": {},
     "output_type": "execute_result"
    }
   ],
   "source": [
    "len(CHARS_MAP)"
   ]
  },
  {
   "cell_type": "code",
   "execution_count": 7,
   "metadata": {
    "id": "KLzWh8e3GhZ7"
   },
   "outputs": [],
   "source": [
    "def create_n_gram_df(df, n_pad):\n",
    "  \"\"\"\n",
    "  Given an input dataframe, create a feature dataframe of shifted characters\n",
    "  Input:\n",
    "  df: timeseries of size (N)\n",
    "  n_pad: the number of context. For a given character at position [idx],\n",
    "    character at position [idx-n_pad/2 : idx+n_pad/2] will be used\n",
    "    as features for that character.\n",
    "\n",
    "  Output:\n",
    "  dataframe of size (N * n_pad) which each row contains the character,\n",
    "    n_pad_2 characters to the left, and n_pad_2 characters to the right\n",
    "    of that character.\n",
    "  \"\"\"\n",
    "  n_pad_2 = int((n_pad - 1)/2)\n",
    "  for i in range(n_pad_2):\n",
    "      df['char-{}'.format(i+1)] = df['char'].shift(i + 1)\n",
    "      df['char{}'.format(i+1)] = df['char'].shift(-i - 1)\n",
    "  return df[n_pad_2: -n_pad_2]"
   ]
  },
  {
   "cell_type": "code",
   "execution_count": 8,
   "metadata": {
    "colab": {
     "base_uri": "https://localhost:8080/"
    },
    "executionInfo": {
     "elapsed": 3,
     "status": "ok",
     "timestamp": 1739690255161,
     "user": {
      "displayName": "Paisit Khanarsa",
      "userId": "13279666281938719332"
     },
     "user_tz": -420
    },
    "id": "kXpraWk_nDNV",
    "outputId": "53c71047-f8fd-453f-a3e7-6eabeb3be398"
   },
   "outputs": [
    {
     "name": "stdout",
     "output_type": "stream",
     "text": [
      "  char char-1 char1\n",
      "1    e      h     l\n",
      "2    l      e     l\n",
      "3    l      l     o\n",
      "4    o      l      \n",
      "5           o     w\n",
      "6    w            o\n",
      "7    o      w     r\n",
      "8    r      o     l\n",
      "9    l      r     d\n"
     ]
    }
   ],
   "source": [
    "# สมมติว่า df มีข้อมูล \"hello world\" และ n_pad = 3\n",
    "\n",
    "import pandas as pd\n",
    "# สร้างตัวอย่าง DataFrame ที่มีคอลัมน์ 'char'\n",
    "data = {'char': list(\"hello world\")}\n",
    "df = pd.DataFrame(data)\n",
    "\n",
    "# ใช้ context window ขนาด 3\n",
    "result = create_n_gram_df(df, 3)\n",
    "print(result)"
   ]
  },
  {
   "cell_type": "code",
   "execution_count": 10,
   "metadata": {
    "id": "VTdWc1kAGhZ9"
   },
   "outputs": [],
   "source": [
    "def prepare_feature(best_processed_path, option='train'):\n",
    "  \"\"\"\n",
    "  Transform the path to a directory containing processed files\n",
    "  into a feature matrix and output array\n",
    "  Input:\n",
    "  best_processed_path: str, path to a processed version of the BEST dataset (เส้นทางไปยังโฟลเดอร์ที่เก็บไฟล์ CSV ของชุดข้อมูล BEST )\n",
    "  option: str, 'train' or 'test' (กำหนดว่าจะใช้ข้อมูล train หรือ test)\n",
    "  \"\"\"\n",
    "  # we use padding equals 21 here to consider 10 characters to the left\n",
    "  # and 10 characters to the right as features for the character in the middle\n",
    "  n_pad = 21\n",
    "  n_pad_2 = int((n_pad - 1)/2)\n",
    "  pad = [{'char': ' ', 'target': True}]\n",
    "  df_pad = pd.DataFrame(pad * n_pad_2)\n",
    "\n",
    "  df = []\n",
    "  # article types in BEST corpus\n",
    "  article_types = ['article', 'encyclopedia', 'news', 'novel']\n",
    "  for article_type in article_types:\n",
    "      df.append(pd.read_csv(os.path.join(best_processed_path, option, 'df_best_{}_{}.csv'.format(article_type, option))))\n",
    "\n",
    "  df = pd.concat(df) #รวมข้อมูลทั้งหมดให้เป็น DataFrame เดียว\n",
    "  # pad with empty string feature\n",
    "  df = pd.concat((df_pad, df, df_pad))\n",
    "\n",
    "  # map characters to numbers, use 'other' if not in the predefined character set.\n",
    "  df['char'] = df['char'].map(lambda x: CHARS_MAP.get(x, 80)) #หากตัวอักษรไม่อยู่ใน CHARS_MAP จะถูกแทนที่ด้วยค่า 80 (สัญลักษณ์ \"อื่นๆ\") # CHARS_MAP['other'] = 80\n",
    "\n",
    "  # Use nearby characters as features\n",
    "  df_with_context = create_n_gram_df(df, n_pad=n_pad)\n",
    "\n",
    "\n",
    "  # set pattern to left|right|center\n",
    "  char_row = ['char' + str(i + 1) for i in range(n_pad_2)] + \\\n",
    "             ['char-' + str(i + 1) for i in range(n_pad_2)] + ['char']\n",
    "\n",
    "  # convert pandas dataframe to numpy array to feed to the model\n",
    "  x_char = df_with_context[char_row].to_numpy()\n",
    "  y = df_with_context['target'].astype(int).to_numpy()\n",
    "\n",
    "  return x_char, y"
   ]
  },
  {
   "cell_type": "markdown",
   "metadata": {
    "id": "lD-rj_A-GhaA"
   },
   "source": [
    "Before running the following commands, we must inform you that our data is quite large and loading the whole dataset at once will **use a lot of memory (~6 GB after processing and up to ~12GB while processing)**. We expect you to be running this on Google Cloud or Google Colab so that you will not run into this problem. But, if, for any reason, you have to run this on your PC or machine with not enough memory, you might need to write a data generator to process a few entries at a time then feed it to the model while training.\n"
   ]
  },
  {
   "cell_type": "code",
   "execution_count": 11,
   "metadata": {
    "id": "CO6tammyGhaA"
   },
   "outputs": [],
   "source": [
    "# Path to the preprocessed data\n",
    "best_processed_path = 'corpora.tar.gz/BEST'"
   ]
  },
  {
   "cell_type": "code",
   "execution_count": 12,
   "metadata": {
    "colab": {
     "base_uri": "https://localhost:8080/"
    },
    "executionInfo": {
     "elapsed": 27454,
     "status": "ok",
     "timestamp": 1739636953759,
     "user": {
      "displayName": "Paisit Khanarsa",
      "userId": "13279666281938719332"
     },
     "user_tz": -420
    },
    "id": "xGTv1h-_GhaD",
    "outputId": "b3fcdae0-147f-4034-ad32-2f75e588a9c5"
   },
   "outputs": [
    {
     "name": "stdout",
     "output_type": "stream",
     "text": [
      "Training data shape:  (16461637, 21)\n",
      "Training data labels shape:  (16461637,)\n",
      "Validation data shape:  (2035694, 21)\n",
      "Validation data labels shape:  (2035694,)\n",
      "Test data shape:  (2271932, 21)\n",
      "Test data labels shape:  (2271932,)\n"
     ]
    }
   ],
   "source": [
    "# Load preprocessed BEST corpus\n",
    "x_train_char, y_train = prepare_feature(best_processed_path, option='train')\n",
    "x_val_char, y_val = prepare_feature(best_processed_path, option='val')\n",
    "x_test_char, y_test = prepare_feature(best_processed_path, option='test')\n",
    "\n",
    "# As a sanity check, we print out the size of the training, val, and test data.\n",
    "print('Training data shape: ', x_train_char.shape)\n",
    "print('Training data labels shape: ', y_train.shape)\n",
    "print('Validation data shape: ', x_val_char.shape)\n",
    "print('Validation data labels shape: ', y_val.shape)\n",
    "print('Test data shape: ', x_test_char.shape)\n",
    "print('Test data labels shape: ', y_test.shape)"
   ]
  },
  {
   "cell_type": "markdown",
   "metadata": {
    "id": "WR8U7ps7DoPM"
   },
   "source": [
    "**Example of data preprocessing and labeling**\n",
    "\n",
    "Setting window site = 21 (left character length = 10, Center letter = 1, right character length = 10)\n",
    "\n",
    "**For the frist sample from trainig data**\n",
    "\n",
    "- **ค**ณะตุลาการร (**'ค'** is the first Character so **it is labeled to 1**)\n",
    "\n",
    "--> _ _ _ _ _ _ _ _ _ _ **ค** ณะตุลาการร\n",
    "\n",
    "-- > \\[Embedding Vector\\] --> | 1 1 1 1 1 1 1 1 1 1 | **97.** | 112. 140. 114. 148. 130. 142.  94. 142. 128. 128. |\n",
    "\n",
    "--> \\[Rearange of embeding vector pattern to \\] --> | 112. 140. 114. 148. 130. 142. 94. 142. 128. 128. | 1 1 1 1 1 1 1 1 1 1 | **97.** |\n",
    "\n",
    "as shown in the output cell below.\n",
    "\n",
    "**For the next sample from trainig data (Slide the window one step)**\n",
    "\n",
    "- ค**ณ**ะตุลาการรั (**'ณ'** is not the first Character so **it is labeled to 0**)\n",
    "\n",
    "--> _ _ _ _ _ _ _ _ _ ค **ณ** ะตุลาการรั\n",
    "\n",
    "-- > \\[Embedding Vector\\] --> | 1 1 1 1 1 1 1 1 1 97. | **112.** | 140. 114. 148. 130. 142.  94. 142. 128. 128. 141.|\n",
    "\n",
    "--> \\[Rearange of embeding vector pattern to \\] -->  | 140. 114. 148. 130. 142.  94. 142. 128. 128. 141. | 97. 1 1 1 1 1 1 1 1 1 | **112.**|\n",
    "\n",
    "as shown in the output cell below.\n",
    "\n",
    "**For the next sample from trainig data (Slide the window one step)**\n",
    "\n",
    "- คณ **ะ** ตุลาการรัฐ (**ะ** is not the first Character so **it is labeled to 0**)\n",
    "\n",
    "--> _ _ _ _ _ _ _ _ คณ **ะ** ตุลาการรัฐ\n",
    "\n",
    "-- > \\[Embedding Vector\\] --> | 1 1 1 1 1 1 1 1 97. 112.| **140.** | 114. 148. 130. 142.  94. 142. 128. 128. 141. 109.|\n",
    "\n",
    "--> \\[Rearange of embeding vector pattern to \\] -->  | 114. 148. 130. 142.  94. 142. 128. 128. 141. 109.| 112. 97. 1 1 1 1 1 1 1 1 | **140.** |\n",
    "\n",
    "as shown in the output cell below.\n",
    "\n",
    "\n"
   ]
  },
  {
   "cell_type": "code",
   "execution_count": 13,
   "metadata": {
    "colab": {
     "base_uri": "https://localhost:8080/"
    },
    "executionInfo": {
     "elapsed": 641,
     "status": "ok",
     "timestamp": 1739636957283,
     "user": {
      "displayName": "Paisit Khanarsa",
      "userId": "13279666281938719332"
     },
     "user_tz": -420
    },
    "id": "NXh5E82tGhaF",
    "outputId": "a5202c36-4624-478a-f394-d5b6ab3152d6"
   },
   "outputs": [
    {
     "name": "stdout",
     "output_type": "stream",
     "text": [
      "First 3 features:  [[112. 140. 114. 148. 130. 142.  94. 142. 128. 128.   1.   1.   1.   1.\n",
      "    1.   1.   1.   1.   1.   1.  97.]\n",
      " [140. 114. 148. 130. 142.  94. 142. 128. 128. 141.  97.   1.   1.   1.\n",
      "    1.   1.   1.   1.   1.   1. 112.]\n",
      " [114. 148. 130. 142.  94. 142. 128. 128. 141. 109. 112.  97.   1.   1.\n",
      "    1.   1.   1.   1.   1.   1. 140.]]\n",
      "First 30 class labels [1 0 0 0 0 0 0 0 0 0 0 0 0 0 0 0 0 0 0 0 1 0 0 1 0 0 0 1 0 0]\n"
     ]
    }
   ],
   "source": [
    "# Print some entry from the data to make sure it is the same as what you think.\n",
    "print('First 3 features: ', x_train_char[:3])\n",
    "print('First 30 class labels', y_train[:30])"
   ]
  },
  {
   "cell_type": "code",
   "execution_count": 14,
   "metadata": {
    "colab": {
     "base_uri": "https://localhost:8080/"
    },
    "executionInfo": {
     "elapsed": 2,
     "status": "ok",
     "timestamp": 1739636957948,
     "user": {
      "displayName": "Paisit Khanarsa",
      "userId": "13279666281938719332"
     },
     "user_tz": -420
    },
    "id": "s7sUX7gCGhaI",
    "outputId": "e3002c16-86f7-4c91-9fc5-5adfd9738614"
   },
   "outputs": [
    {
     "name": "stdout",
     "output_type": "stream",
     "text": [
      "ค:  ค ณะตุลาการร\tpred = 1\n",
      "ณ: ค ณ ะตุลาการรั\tpred = 0\n",
      "ะ: คณ ะ ตุลาการรัฐ\tpred = 0\n",
      "ต: คณะ ต ุลาการรัฐธ\tpred = 0\n",
      "ุ: คณะต ุ ลาการรัฐธร\tpred = 0\n",
      "ล: คณะตุ ล าการรัฐธรร\tpred = 0\n",
      "า: คณะตุล า การรัฐธรรม\tpred = 0\n",
      "ก: คณะตุลา ก ารรัฐธรรมน\tpred = 0\n",
      "า: คณะตุลาก า รรัฐธรรมนู\tpred = 0\n",
      "ร: คณะตุลากา ร รัฐธรรมนูญ\tpred = 0\n",
      "ร: คณะตุลาการ ร ัฐธรรมนูญก\tpred = 0\n",
      "ั: ณะตุลาการร ั ฐธรรมนูญกั\tpred = 0\n",
      "ฐ: ะตุลาการรั ฐ ธรรมนูญกับ\tpred = 0\n",
      "ธ: ตุลาการรัฐ ธ รรมนูญกับค\tpred = 0\n",
      "ร: ุลาการรัฐธ ร รมนูญกับคว\tpred = 0\n",
      "ร: ลาการรัฐธร ร มนูญกับควา\tpred = 0\n",
      "ม: าการรัฐธรร ม นูญกับความ\tpred = 0\n",
      "น: การรัฐธรรม น ูญกับความเ\tpred = 0\n",
      "ู: ารรัฐธรรมน ู ญกับความเป\tpred = 0\n",
      "ญ: รรัฐธรรมนู ญ กับความเป็\tpred = 0\n",
      "ก: รัฐธรรมนูญ ก ับความเป็น\tpred = 1\n",
      "ั: ัฐธรรมนูญก ั บความเป็นอ\tpred = 0\n",
      "บ: ฐธรรมนูญกั บ ความเป็นอง\tpred = 0\n",
      "ค: ธรรมนูญกับ ค วามเป็นองค\tpred = 1\n",
      "ว: รรมนูญกับค ว ามเป็นองค์\tpred = 0\n",
      "า: รมนูญกับคว า มเป็นองค์ก\tpred = 0\n",
      "ม: มนูญกับควา ม เป็นองค์กร\tpred = 0\n",
      "เ: นูญกับความ เ ป็นองค์กรต\tpred = 1\n",
      "ป: ูญกับความเ ป ็นองค์กรตุ\tpred = 0\n",
      "็: ญกับความเป ็ นองค์กรตุล\tpred = 0\n"
     ]
    }
   ],
   "source": [
    "#print char of feature 1\n",
    "char = np.array(CHARS)\n",
    "\n",
    "#A function for displaying our features in text\n",
    "def print_features(tfeature,label,index):\n",
    "    feature = np.array(tfeature[index],dtype=int).reshape(21,1)\n",
    "    #Convert to string\n",
    "    char_list = char[feature]\n",
    "    left = ''.join(reversed(char_list[10:20].reshape(10))).replace(\" \", \"\")\n",
    "    center = ''.join(char_list[20])\n",
    "    right =  ''.join(char_list[0:10].reshape(10)).replace(\" \", \"\")\n",
    "    word = ''.join([left,' ',center,' ',right])\n",
    "    print(center + ': ' + word + \"\\tpred = \"+str(label[index]))\n",
    "\n",
    "for ind in range(0,30):\n",
    "    print_features(x_train_char,y_train,ind)"
   ]
  },
  {
   "cell_type": "markdown",
   "metadata": {
    "id": "qh5dG3w3GhaN"
   },
   "source": [
    "Now, you are going to define the model to be used as your classifier. If you are using Pytorch, please follow the guideline we provide below.  You can find more about PyTorch model structure here [documentation](https://pytorch.org/tutorials/beginner/basics/buildmodel_tutorial.html).\n",
    "\n",
    "In short, you need to inherit the class `torch.nn.Module` and override the constructor and the method `forward` as shown below:\n",
    "```python\n",
    "Class Model(torch.nn.Module):\n",
    "  def __init__(self):\n",
    "    super(Model, self).__init__()\n",
    "    #init layer\n",
    "  def forward(self, x):\n",
    "    #forward pass the model\n",
    "```\n",
    "\n",
    "Also, beware that complex model requires more time to train and your dataset is already quite large. We tested it with a simple 1-hidden-layered feedforward nueral network and it used ~5 mins to train 1 epoch."
   ]
  },
  {
   "cell_type": "markdown",
   "metadata": {
    "id": "oGX36Qc4GhaO"
   },
   "source": [
    "# Three-Layer Feedforward Neural Networks\n",
    "\n",
    "Below, we provide you the code for creating a 3-layer fully connected neural network in PyTorch. This will also serve as the baseline for your other models. Run the code below while making sure you understand what you are doing. Then, report the results."
   ]
  },
  {
   "cell_type": "code",
   "execution_count": 15,
   "metadata": {
    "colab": {
     "base_uri": "https://localhost:8080/"
    },
    "executionInfo": {
     "elapsed": 1291,
     "status": "ok",
     "timestamp": 1739636962753,
     "user": {
      "displayName": "Paisit Khanarsa",
      "userId": "13279666281938719332"
     },
     "user_tz": -420
    },
    "id": "TohElGvuGhaO",
    "outputId": "4f2e825d-a799-4136-fe34-8cd1ba08960f"
   },
   "outputs": [
    {
     "data": {
      "text/plain": [
       "==========================================================================================\n",
       "Layer (type:depth-idx)                   Output Shape              Param #\n",
       "==========================================================================================\n",
       "SimpleFeedforwardNN                      [1, 1]                    --\n",
       "├─Linear: 1-1                            [1, 100]                  2,200\n",
       "├─Linear: 1-2                            [1, 100]                  10,100\n",
       "├─Linear: 1-3                            [1, 100]                  10,100\n",
       "├─Linear: 1-4                            [1, 1]                    101\n",
       "==========================================================================================\n",
       "Total params: 22,501\n",
       "Trainable params: 22,501\n",
       "Non-trainable params: 0\n",
       "Total mult-adds (Units.MEGABYTES): 0.02\n",
       "==========================================================================================\n",
       "Input size (MB): 0.00\n",
       "Forward/backward pass size (MB): 0.00\n",
       "Params size (MB): 0.09\n",
       "Estimated Total Size (MB): 0.09\n",
       "=========================================================================================="
      ]
     },
     "execution_count": 15,
     "metadata": {},
     "output_type": "execute_result"
    }
   ],
   "source": [
    "import torch.nn.functional as F  # ฟังก์ชันช่วยเช่น ReLU, Sigmoid (Helper functions like ReLU, Sigmoid)\n",
    "from torchinfo import summary  # ใช้ดูโครงสร้างของโมเดล (Used for viewing the model structure)\n",
    "# from torchsummaryX import summary  # อีกทางเลือกสำหรับการดูโครงสร้างโมเดล (Another option for model summary)\n",
    "\n",
    "class SimpleFeedforwardNN(torch.nn.Module):  # สืบทอดจาก torch.nn.Module (Inherits from torch.nn.Module)\n",
    "\n",
    "  # การสร้างโมเดล (define model layers)\n",
    "  def __init__(self):\n",
    "    super(SimpleFeedforwardNN, self).__init__() #ใช้เรียกฟังก์ชันของคลาสหลัก เพื่อให้สามารถใช้คุณสมบัติของ torch.nn.Module ได้\n",
    "\n",
    "    # การกำหนดโครงสร้างของ Neural Network\n",
    "    # สร้างชั้นของ Fully Connected Layers (Define Fully Connected Layers) #โมเดลนี้มี 3 ชั้นซ่อน (Hidden Layers) และ 1 ชั้นเอาต์พุต (Output Layer)\n",
    "    self.mlp1 = torch.nn.Linear(21, 100)  # อินพุตมี 21 นิวรอน ส่งไปยัง 100 นิวรอน (Input: 21 neurons -> 100 neurons)\n",
    "    self.mlp2 = torch.nn.Linear(100, 100) # hidden ที่มี 100 นิวรอน (Hidden layer: 100 neurons)\n",
    "    self.mlp3 = torch.nn.Linear(100, 100) # hidden อีกชั้น (Another hidden layer: 100 neurons)\n",
    "    self.cls_head = torch.nn.Linear(100, 1)  # เอาต์พุตเป็น 1 นิวรอน (Output layer: 1 neuron)\n",
    "\n",
    "  # การกำหนดการไหลของข้อมูลในโมเดล\n",
    "  def forward(self, x):\n",
    "    x = F.relu(self.mlp1(x))  # ใช้ ReLU Activation (Apply ReLU activation)\n",
    "    x = F.relu(self.mlp2(x))\n",
    "    x = F.relu(self.mlp3(x))\n",
    "    x = self.cls_head(x)  # ไม่มี Activation Function ที่ output layer (No activation function at the output layer)\n",
    "    out = torch.sigmoid(x)  # ใช้ Sigmoid เพื่อให้ค่าผลลัพธ์อยู่ในช่วง [0,1] (Use Sigmoid to get values in the range [0,1])\n",
    "    return out\n",
    "\n",
    "model = SimpleFeedforwardNN() #Initialize model\n",
    "model.cuda() #specify the location that it is in the GPU\n",
    "\n",
    "summary(model, input_size=(1, 21))\n",
    "# summary(model,  torch.zeros((1, 21), dtype = torch.float).cuda() ) #summarize the model"
   ]
  },
  {
   "cell_type": "markdown",
   "metadata": {
    "id": "ZkubPFaY-rxT"
   },
   "source": [
    "### Test whether the model is working as intended by passing dummy input."
   ]
  },
  {
   "cell_type": "code",
   "execution_count": 16,
   "metadata": {
    "colab": {
     "base_uri": "https://localhost:8080/"
    },
    "executionInfo": {
     "elapsed": 4,
     "status": "ok",
     "timestamp": 1739636966580,
     "user": {
      "displayName": "Paisit Khanarsa",
      "userId": "13279666281938719332"
     },
     "user_tz": -420
    },
    "id": "dmXZzTok7SCC",
    "outputId": "f7061ce7-1178-4d3d-c74d-042f58c3ccaf"
   },
   "outputs": [
    {
     "name": "stdout",
     "output_type": "stream",
     "text": [
      "torch.Size([64, 1])\n"
     ]
    }
   ],
   "source": [
    "#สร้างอาร์เรย์ของ NumPy ขนาด (64, 21) ที่มีค่าเป็น ศูนย์ทั้งหมด\n",
    "# 64 → หมายถึงจำนวนตัวอย่าง (Batch size)\n",
    "# 21 → หมายถึงจำนวนฟีเจอร์ (ตรงกับจำนวนอินพุตของโมเดล)\n",
    "# torch.tensor(..., dtype=torch.float) → แปลงอาร์เรย์ NumPy เป็น Tensor ที่ใช้กับ PyTorch\n",
    "\n",
    "test_X = torch.tensor(np.zeros((64, 21)), dtype = torch.float).cuda()\n",
    "print(model(test_X).shape)\n",
    "#64 → เนื่องจากอินพุตมี 64 ตัวอย่าง (Batch size = 64) โมเดลจึงให้ผลลัพธ์สำหรับ 64 ตัวอย่าง\n",
    "#1 → เพราะชั้นสุดท้ายของโมเดล (self.cls_head) มี 1 นิวรอน จึงได้ค่าเอาต์พุตเพียงค่าเดียวต่อ 1 ตัวอย่าง"
   ]
  },
  {
   "cell_type": "markdown",
   "metadata": {
    "id": "2bZLPWQcVayH"
   },
   "source": [
    "A tensor is very similar to numpy, and many numpy functions has a tensor equivalent."
   ]
  },
  {
   "cell_type": "code",
   "execution_count": 17,
   "metadata": {
    "colab": {
     "base_uri": "https://localhost:8080/"
    },
    "executionInfo": {
     "elapsed": 1607,
     "status": "ok",
     "timestamp": 1739636973630,
     "user": {
      "displayName": "Paisit Khanarsa",
      "userId": "13279666281938719332"
     },
     "user_tz": -420
    },
    "id": "VPJfevJJVkpR",
    "outputId": "6a7b2708-5de2-42bb-a44d-2c80b5c1d235"
   },
   "outputs": [
    {
     "name": "stdout",
     "output_type": "stream",
     "text": [
      "tensor([0, 1, 2, 3, 4, 5]) torch.Size([6])\n",
      "tensor([ 1,  3,  5,  7,  9, 11])\n",
      "tensor([[0, 1, 2],\n",
      "        [3, 4, 5]])\n",
      "torch.Size([1, 1, 4, 4]) torch.Size([1, 1, 4, 4])\n",
      "tensor([[[[ 1.,  2.,  3.,  4.],\n",
      "          [ 5.,  6.,  7.,  8.],\n",
      "          [ 9., 10., 11., 12.],\n",
      "          [13., 14., 15., 16.]]]])\n",
      "tensor([[[[1., 1., 1., 1.],\n",
      "          [1., 1., 1., 1.],\n",
      "          [1., 1., 1., 1.],\n",
      "          [1., 1., 1., 1.]]]])\n",
      "tensor([[[[10., 10., 10., 10.],\n",
      "          [26., 26., 26., 26.],\n",
      "          [42., 42., 42., 42.],\n",
      "          [58., 58., 58., 58.]]]])\n"
     ]
    }
   ],
   "source": [
    "# สร้าง tensor จากช่วงตัวเลข 0 ถึง 5 (Create a tensor with a range of values from 0 to 5)\n",
    "example_tensor = torch.arange(6)\n",
    "print(example_tensor, example_tensor.shape)  # แสดงขนาดของ tensor (Print the shape of the tensor)\n",
    "\n",
    "# การบวกและการคูณ (Addition and multiplication)\n",
    "print(example_tensor * 2 + 1)  # คูณ tensor ด้วย 2 แล้วบวก 1 (Multiply the tensor by 2 and add 1)\n",
    "\n",
    "# การปรับขนาด tensor (Resize the tensor)\n",
    "example_tensor = example_tensor.view((2, 3))  # เปลี่ยนรูป tensor เป็นขนาด 2x3 (Reshape the tensor to 2x3)\n",
    "print(example_tensor)  # แสดงผลลัพธ์หลังจากการเปลี่ยนรูป (Print the reshaped tensor)\n",
    "\n",
    "# สร้างตัวอย่าง tensor สองตัว (Create two example tensors)\n",
    "example_tensor1 = torch.tensor([[[[1,2,3,4],[5,6,7,8],[9,10,11,12],[13,14,15,16]]]], dtype = torch.float)\n",
    "example_tensor2 = torch.ones_like(example_tensor1)  # สร้าง tensor ที่มีค่าเป็น 1 โดยมีขนาดเท่ากับ example_tensor1 (Create a tensor with all ones, same size as example_tensor1)\n",
    "print(example_tensor1.shape, example_tensor2.shape)  # แสดงขนาดของ tensor ทั้งสอง (Print the shapes of both tensors)\n",
    "\n",
    "# แสดงค่า tensor ทั้งสอง (Print both tensors)\n",
    "print(example_tensor1)\n",
    "print(example_tensor2)\n",
    "\n",
    "# การคูณ matrix (Matrix multiplication)\n",
    "print(example_tensor1.matmul(example_tensor2))  # คูณ tensor สองตัว (Matrix multiplication of the two tensors)\n"
   ]
  },
  {
   "cell_type": "markdown",
   "metadata": {
    "id": "IBW4pv-dYLbP"
   },
   "source": [
    "To debug, you can always just try passing variables through individual layers by yourself."
   ]
  },
  {
   "cell_type": "code",
   "execution_count": 18,
   "metadata": {
    "colab": {
     "base_uri": "https://localhost:8080/"
    },
    "executionInfo": {
     "elapsed": 948,
     "status": "ok",
     "timestamp": 1739636978396,
     "user": {
      "displayName": "Paisit Khanarsa",
      "userId": "13279666281938719332"
     },
     "user_tz": -420
    },
    "id": "5nUmw7phVXhZ",
    "outputId": "d7d8005b-983a-41f8-84cd-1226900634c0"
   },
   "outputs": [
    {
     "name": "stdout",
     "output_type": "stream",
     "text": [
      "[[112. 140. 114. 148. 130. 142.  94. 142. 128. 128.   1.   1.   1.   1.\n",
      "    1.   1.   1.   1.   1.   1.  97.]\n",
      " [140. 114. 148. 130. 142.  94. 142. 128. 128. 141.  97.   1.   1.   1.\n",
      "    1.   1.   1.   1.   1.   1. 112.]\n",
      " [114. 148. 130. 142.  94. 142. 128. 128. 141. 109. 112.  97.   1.   1.\n",
      "    1.   1.   1.   1.   1.   1. 140.]\n",
      " [148. 130. 142.  94. 142. 128. 128. 141. 109. 117. 140. 112.  97.   1.\n",
      "    1.   1.   1.   1.   1.   1. 114.]]\n",
      "(4, 21)\n",
      "torch.Size([4, 3])\n",
      "tensor([[-10.7609,  35.0017, -75.6997],\n",
      "        [-27.3164,  26.4542, -69.2510],\n",
      "        [ -9.0613,  42.3437, -91.1748],\n",
      "        [-21.3748,  35.3703, -57.5476]], device='cuda:0',\n",
      "       grad_fn=<AddmmBackward0>)\n"
     ]
    }
   ],
   "source": [
    "#โค้ดนี้เป็นการ ทดสอบและดีบัก (Debug) ชั้น Linear Layer ใน PyTorch โดยใช้ตัวอย่างข้อมูล x_train_char เพื่อดูว่าข้อมูลไหลผ่านเลเยอร์อย่างไรและผลลัพธ์มีขนาดเท่าใด\n",
    "\n",
    "\n",
    "mlp_test = torch.nn.Linear(21, 3).cuda() # สร้าง Fully Connected Layer (Linear Layer) ที่รับอินพุต 21 ฟีเจอร์ และให้เอาต์พุต 3 ฟีเจอร์\n",
    "print(x_train_char[:4])\n",
    "print(x_train_char[:4].shape)\n",
    "\n",
    "test_input = torch.tensor(x_train_char[:4], dtype = torch.float).cuda() #แปลงข้อมูล x_train_char เป็น PyTorch Tensor\n",
    "print(mlp_test(test_input).shape)\n",
    "print(mlp_test(test_input)) #นำข้อมูล (4, 21) ผ่าน Linear Layer ค่าที่ได้จะเป็น Tensor ขนาด (4, 3)"
   ]
  },
  {
   "cell_type": "markdown",
   "metadata": {
    "id": "bCFXfNqc_mf0"
   },
   "source": [
    "### Typical PyTorch training loop\n",
    "\n",
    "Before the training loop begins, a data loader respondsible for generating data in a trainable format has to be created first. In Pytorch, `torch.utils.data.Dataloader` is a readily available class that are commonly used for data preparation. The dataloader takes the object `torch.utils.data.Dataset` as an input. An example of a data loader for this task is shown below. You can read more about the class `Dataset` here https://pytorch.org/tutorials/beginner/basics/data_tutorial.html."
   ]
  },
  {
   "cell_type": "markdown",
   "metadata": {
    "id": "-711GXPB2757"
   },
   "source": [
    "### Converting the data into trainable format\n",
    "\n",
    "In order to train the model using the PyTorch frame, the data has to be converted into `Tensor type`. In the cell below, we convert the data into `cuda.FloatTensor` type. You can read more about `Tensor` data type here : https://pytorch.org/docs/stable/tensors.html."
   ]
  },
  {
   "cell_type": "code",
   "execution_count": 19,
   "metadata": {
    "id": "xChz76miarR6"
   },
   "outputs": [],
   "source": [
    "# สร้างคลาส Dataset ที่สืบทอดมาจาก torch.utils.data.Dataset ซึ่งเป็นคลาสพื้นฐานสำหรับการทำงานกับข้อมูลใน PyTorch\n",
    "# คลาสนี้จะใช้สำหรับการโหลดข้อมูลและเตรียมข้อมูลให้พร้อมใช้ในระหว่างการฝึกโมเดล (Dataset class that inherits from torch.utils.data.Dataset)\n",
    "class Dataset(torch.utils.data.Dataset):\n",
    "    'Characterizes a dataset for PyTorch'\n",
    "\n",
    "    def __init__(self, X, Y, dtype = 'float'):\n",
    "        'Initialization'  # ฟังก์ชัน constructor ที่ใช้เริ่มต้นค่าและเตรียมข้อมูล (Initialization function)\n",
    "        # กำหนดค่า X และ Y ซึ่งคือข้อมูลและป้ายกำกับ (Set input data (X) and labels (Y))\n",
    "        self.X = X\n",
    "        self.Y = Y.reshape(-1, 1)  # เปลี่ยนรูป Y ให้เป็นเวกเตอร์คอลัมน์ (Reshape Y into a column vector)\n",
    "\n",
    "        # ตรวจสอบประเภทของ dtype และแปลงข้อมูล X และ Y ให้เป็น tensor ใน PyTorch และย้ายข้อมูลไปที่ GPU (Check dtype and convert data to tensor)\n",
    "        if(dtype == 'float'):  # ถ้า dtype คือ 'float' ให้แปลง X เป็น float tensor (If dtype is 'float', convert X to float tensor)\n",
    "            self.X = torch.tensor(self.X, dtype = torch.float).cuda()  # ใช้ dtype float และย้ายไป GPU (Use float dtype and move to GPU)\n",
    "        elif(dtype == 'long'):  # ถ้า dtype คือ 'long' ให้แปลง X เป็น long tensor (If dtype is 'long', convert X to long tensor)\n",
    "            self.X = torch.tensor(self.X, dtype = torch.long).cuda()  # ใช้ dtype long และย้ายไป GPU (Use long dtype and move to GPU)\n",
    "\n",
    "        self.Y = torch.tensor(self.Y, dtype = torch.float).cuda()  # แปลง Y เป็น float tensor และย้ายไป GPU (Convert Y to float tensor and move to GPU)\n",
    "\n",
    "    def __len__(self): #ฟังก์ชัน __len__ (คืนค่าจำนวนตัวอย่างทั้งหมด)\n",
    "        'Denotes the total number of samples'\n",
    "        return len(self.X)  # คืนค่าจำนวนตัวอย่าง (Return the number of samples)\n",
    "\n",
    "    def __getitem__(self, index): #ฟังก์ชัน __getitem__ (ดึงข้อมูลตัวอย่างจาก Dataset ตาม index ที่กำหนด)\n",
    "        'Generates one sample of data'\n",
    "\n",
    "        # เลือกตัวอย่างตาม index ที่ระบุ (Select sample by the given index)\n",
    "        x = self.X[index]  # เลือก X ตาม index (Select X based on index)\n",
    "        y = self.Y[index, :]  # เลือก Y ตาม index (Select Y based on index)\n",
    "\n",
    "        return x, y  # คืนค่าตัวอย่าง x และ y (Return the sample x and y)\n"
   ]
  },
  {
   "cell_type": "markdown",
   "metadata": {
    "id": "zUDlx6uYZyE3"
   },
   "source": [
    "In the block below, we initialized the hyperparameters used for the training process. Normally, the optimizer, objective function, and training schedule is initialized here."
   ]
  },
  {
   "cell_type": "code",
   "execution_count": 20,
   "metadata": {
    "colab": {
     "base_uri": "https://localhost:8080/"
    },
    "executionInfo": {
     "elapsed": 4,
     "status": "ok",
     "timestamp": 1739636987091,
     "user": {
      "displayName": "Paisit Khanarsa",
      "userId": "13279666281938719332"
     },
     "user_tz": -420
    },
    "id": "t4x2odB-bNNB",
    "outputId": "f6404a4a-2ed8-4df1-bef8-62293eb499c2"
   },
   "outputs": [
    {
     "data": {
      "text/plain": [
       "(array([[112., 140., 114., ...,   1.,   1.,  97.],\n",
       "        [140., 114., 148., ...,   1.,   1., 112.],\n",
       "        [114., 148., 130., ...,   1.,   1., 140.],\n",
       "        ...,\n",
       "        [137., 100.,   1., ..., 152., 100., 151.],\n",
       "        [100.,   1.,   1., ..., 126., 152., 137.],\n",
       "        [  1.,   1.,   1., ..., 159., 126., 100.]], shape=(16461637, 21)),\n",
       " array([1, 0, 0, ..., 1, 0, 0], shape=(16461637,)))"
      ]
     },
     "execution_count": 20,
     "metadata": {},
     "output_type": "execute_result"
    }
   ],
   "source": [
    "x_train_char, y_train"
   ]
  },
  {
   "cell_type": "code",
   "execution_count": 21,
   "metadata": {
    "colab": {
     "base_uri": "https://localhost:8080/"
    },
    "executionInfo": {
     "elapsed": 2048,
     "status": "ok",
     "timestamp": 1739636990923,
     "user": {
      "displayName": "Paisit Khanarsa",
      "userId": "13279666281938719332"
     },
     "user_tz": -420
    },
    "id": "ucywq9BNbRSg",
    "outputId": "5354269b-0226-42f7-a9f1-66d805d5ddc5"
   },
   "outputs": [
    {
     "data": {
      "text/plain": [
       "<__main__.Dataset at 0x202d030b350>"
      ]
     },
     "execution_count": 21,
     "metadata": {},
     "output_type": "execute_result"
    }
   ],
   "source": [
    "Dataset(x_train_char, y_train, dtype = 'float')"
   ]
  },
  {
   "cell_type": "code",
   "execution_count": 22,
   "metadata": {
    "colab": {
     "base_uri": "https://localhost:8080/",
     "height": 138
    },
    "executionInfo": {
     "elapsed": 18584,
     "status": "ok",
     "timestamp": 1739637010737,
     "user": {
      "displayName": "Paisit Khanarsa",
      "userId": "13279666281938719332"
     },
     "user_tz": -420
    },
    "id": "3mUEV-_cBgf7",
    "outputId": "f667ca74-ef20-471d-f2e9-330e1504527f"
   },
   "outputs": [
    {
     "name": "stderr",
     "output_type": "stream",
     "text": [
      "\u001b[34m\u001b[1mwandb\u001b[0m: Using wandb-core as the SDK backend.  Please refer to https://wandb.me/wandb-core for more information.\n",
      "\u001b[34m\u001b[1mwandb\u001b[0m: Currently logged in as: \u001b[33mmemekhos001\u001b[0m (\u001b[33mmemekhos001-kmutt\u001b[0m) to \u001b[32mhttps://api.wandb.ai\u001b[0m. Use \u001b[1m`wandb login --relogin`\u001b[0m to force relogin\n"
     ]
    },
    {
     "data": {
      "text/html": [
       "Tracking run with wandb version 0.19.7"
      ],
      "text/plain": [
       "<IPython.core.display.HTML object>"
      ]
     },
     "metadata": {},
     "output_type": "display_data"
    },
    {
     "data": {
      "text/html": [
       "Run data is saved locally in <code>c:\\Users\\Aitthikit\\Desktop\\NLP\\wandb\\run-20250310_093757-vacbkkqr</code>"
      ],
      "text/plain": [
       "<IPython.core.display.HTML object>"
      ]
     },
     "metadata": {},
     "output_type": "display_data"
    },
    {
     "data": {
      "text/html": [
       "Syncing run <strong><a href='https://wandb.ai/memekhos001-kmutt/simpleff/runs/vacbkkqr' target=\"_blank\">worthy-pine-22</a></strong> to <a href='https://wandb.ai/memekhos001-kmutt/simpleff' target=\"_blank\">Weights & Biases</a> (<a href='https://wandb.me/developer-guide' target=\"_blank\">docs</a>)<br>"
      ],
      "text/plain": [
       "<IPython.core.display.HTML object>"
      ]
     },
     "metadata": {},
     "output_type": "display_data"
    },
    {
     "data": {
      "text/html": [
       " View project at <a href='https://wandb.ai/memekhos001-kmutt/simpleff' target=\"_blank\">https://wandb.ai/memekhos001-kmutt/simpleff</a>"
      ],
      "text/plain": [
       "<IPython.core.display.HTML object>"
      ]
     },
     "metadata": {},
     "output_type": "display_data"
    },
    {
     "data": {
      "text/html": [
       " View run at <a href='https://wandb.ai/memekhos001-kmutt/simpleff/runs/vacbkkqr' target=\"_blank\">https://wandb.ai/memekhos001-kmutt/simpleff/runs/vacbkkqr</a>"
      ],
      "text/plain": [
       "<IPython.core.display.HTML object>"
      ]
     },
     "metadata": {},
     "output_type": "display_data"
    }
   ],
   "source": [
    "from torch.utils.data import DataLoader #ใช้สำหรับโหลดข้อมูลเป็น batch\n",
    "import torch.optim as optim #ใช้สำหรับกำหนด Optimizer ในการปรับค่าถ่วงน้ำหนักของโมเดล\n",
    "\n",
    "#hyperparameter initialization\n",
    "NUM_EPOCHS = 3 # จำนวนรอบการฝึก (epochs)\n",
    "model_checkpoint_path_feedforward_nn = './model_weight_feedforward_nn.h5' # ไฟล์สำหรับบันทึกน้ำหนักของโมเดล\n",
    "criterion = torch.nn.BCELoss(reduction = 'none') # ฟังก์ชัน Loss สำหรับ Binary Classification\n",
    "BATCHS_SIZE = 512  # ขนาดของ Batch\n",
    "optimizer = optim.Adam(model.parameters(), lr=5e-4) # ใช้ Adam optimizer ในการอัปเดตค่าถ่วงน้ำหนัก\n",
    "eps = 1e-10 # ค่าคงที่ขนาดเล็กเพื่อป้องกันการหารด้วยศูนย์\n",
    "\n",
    "#การตั้งค่าการติดตามผลด้วย Weights & Biases (wandb)\n",
    "config = {\n",
    "    'architecture': 'simpleff', #ชื่อโปรเจกต์เป็น \"simpleff\"\n",
    "    'epochs': 3\n",
    "}\n",
    "wandb.init(\n",
    "    project='simpleff',\n",
    "    config=config,\n",
    ")\n",
    "wandb.config = {\n",
    "    'architecture': 'simpleff',\n",
    "    'epochs': 3\n",
    "}\n",
    "\n",
    "\n",
    "train_loader = DataLoader( Dataset(x_train_char, y_train, dtype = 'float'), batch_size = BATCHS_SIZE)\n",
    "val_loader = DataLoader( Dataset(x_val_char, y_val, dtype = 'float'), batch_size = BATCHS_SIZE)\n",
    "test_loader = DataLoader( Dataset(x_test_char, y_test, dtype = 'float'), batch_size = BATCHS_SIZE)"
   ]
  },
  {
   "cell_type": "markdown",
   "metadata": {
    "id": "HE3i7N2n3tEw"
   },
   "source": [
    "### Starting the training loop\n"
   ]
  },
  {
   "cell_type": "code",
   "execution_count": 21,
   "metadata": {
    "colab": {
     "base_uri": "https://localhost:8080/"
    },
    "executionInfo": {
     "elapsed": 855196,
     "status": "ok",
     "timestamp": 1739637872722,
     "user": {
      "displayName": "Paisit Khanarsa",
      "userId": "13279666281938719332"
     },
     "user_tz": -420
    },
    "id": "m1e6pkqK_u8J",
    "outputId": "3eaf42c5-008e-4b43-da3e-83304b591687"
   },
   "outputs": [
    {
     "name": "stdout",
     "output_type": "stream",
     "text": [
      "EPOCH : 1\n",
      "TRAINING LOOP\n"
     ]
    },
    {
     "name": "stderr",
     "output_type": "stream",
     "text": [
      "100%|██████████| 32152/32152 [02:04<00:00, 258.13it/s]\n"
     ]
    },
    {
     "name": "stdout",
     "output_type": "stream",
     "text": [
      "VALIDATION LOOP\n"
     ]
    },
    {
     "name": "stderr",
     "output_type": "stream",
     "text": [
      "100%|██████████| 3976/3976 [00:11<00:00, 358.77it/s]\n"
     ]
    },
    {
     "name": "stdout",
     "output_type": "stream",
     "text": [
      "val loss: 0.31511759757995605\n",
      "val accuracy: 0.8668851998384826\n",
      "EPOCH : 2\n",
      "TRAINING LOOP\n"
     ]
    },
    {
     "name": "stderr",
     "output_type": "stream",
     "text": [
      "100%|██████████| 32152/32152 [02:22<00:00, 226.07it/s]\n"
     ]
    },
    {
     "name": "stdout",
     "output_type": "stream",
     "text": [
      "VALIDATION LOOP\n"
     ]
    },
    {
     "name": "stderr",
     "output_type": "stream",
     "text": [
      "100%|██████████| 3976/3976 [00:13<00:00, 302.30it/s]\n"
     ]
    },
    {
     "name": "stdout",
     "output_type": "stream",
     "text": [
      "val loss: 0.2918456196784973\n",
      "val accuracy: 0.8803494041835365\n",
      "EPOCH : 3\n",
      "TRAINING LOOP\n"
     ]
    },
    {
     "name": "stderr",
     "output_type": "stream",
     "text": [
      "100%|██████████| 32152/32152 [02:24<00:00, 222.04it/s]\n"
     ]
    },
    {
     "name": "stdout",
     "output_type": "stream",
     "text": [
      "VALIDATION LOOP\n"
     ]
    },
    {
     "name": "stderr",
     "output_type": "stream",
     "text": [
      "100%|██████████| 3976/3976 [00:16<00:00, 247.65it/s]\n"
     ]
    },
    {
     "name": "stdout",
     "output_type": "stream",
     "text": [
      "val loss: 0.2665041983127594\n",
      "val accuracy: 0.8934284818838195\n"
     ]
    }
   ],
   "source": [
    "# ติดตามการฝึกโมเดลด้วย Weights & Biases (Track the model training with Weights & Biases)\n",
    "wandb.watch(model, log='all')\n",
    "\n",
    "\n",
    "idx = 0 # ใช้นับจำนวนรอบการอัปเดตพารามิเตอร์ (iterations)\n",
    "best_val_acc = 0 #ใช้เก็บค่าความแม่นยำสูงสุดที่ได้จาก validation\n",
    "\n",
    "# เริ่มต้นรอบการฝึก (Training loop for NUM_EPOCHS)\n",
    "for n_epoch in range(NUM_EPOCHS):\n",
    "    print(\"EPOCH :\", n_epoch + 1)  # แสดงหมายเลขรอบฝึก (Print current epoch number)\n",
    "\n",
    "    model.train() # set โมเดลให้อยู่ในโหมดการฝึก (Set the model to training mode)\n",
    "    print(\"TRAINING LOOP\")\n",
    "\n",
    "    # วนลูปฝึกแต่ละ batch จาก train_loader (Iterate through training batches)\n",
    "    for X_train, Y_train in tqdm(train_loader): # วนลูปแต่ละ batch ของข้อมูลฝึก\n",
    "        optimizer.zero_grad()  # เคลียร์ gradient ของรอบที่แล้ว (Clear gradients from previous step)\n",
    "        Y_pred = model(X_train)  # คำนวณค่าทำนาย (Make predictions)\n",
    "        loss = criterion(Y_pred, Y_train).mean()  # คำนวณ loss (Calculate the loss)\n",
    "        loss.backward()  # คำนวณ gradients (Backpropagation)\n",
    "        optimizer.step()  # อัปเดตพารามิเตอร์โมเดล (Update model parameters)\n",
    "\n",
    "        # บันทึกข้อมูลการฝึกใน WandB (Log training loss and iteration count to WandB)\n",
    "        wandb.log({\n",
    "            'train_loss': loss,  # ค่าความสูญเสียในการฝึก (Training loss)\n",
    "            'n_iter' : idx  # จำนวนการวนรอบ (Iteration count)\n",
    "        })\n",
    "\n",
    "        idx += 1  # เพิ่มค่าจำนวน Iteration\n",
    "\n",
    "    # เริ่ม validation loop (Validation loop: ใช้ accuracy เป็นเมตริกหลัก) (Validation loop for simplicity using accuracy as the primary metric)\n",
    "    model.eval()  # set โมเดลให้อยู่ในโหมด validation (Set the model to evaluation mode)\n",
    "    with torch.no_grad():  # ปิดการคำนวณ gradient สำหรับ validation (Disable gradient computation)\n",
    "        print(\"VALIDATION LOOP\")\n",
    "\n",
    "        # ตัวแปรเก็บข้อมูลสำหรับการ validation (Initialize variables for validation data)\n",
    "        val_loss = []\n",
    "        val_pred = []\n",
    "        val_true = []\n",
    "\n",
    "        for X_val, Y_val in tqdm(val_loader): # วนลูปแต่ละ batch ของ validation\n",
    "            Y_pred = model(X_val)  # คำนวณค่าทำนายจาก validation (Make predictions on validation data)\n",
    "            loss = criterion(Y_pred, Y_val)  # คำนวณค่า loss (Calculate the loss)\n",
    "\n",
    "            # เก็บข้อมูล loss และค่าทำนายใน validation (Store loss and predictions)\n",
    "            val_loss.append(loss)\n",
    "            val_pred.append(Y_pred)\n",
    "            val_true.append(Y_val)\n",
    "\n",
    "        # คำนวณค่า loss และความแม่นยำเฉลี่ยในการ validation (Calculate average validation loss and accuracy)\n",
    "        avg_val_loss = torch.concatenate(val_loss, axis = 0).mean().item()  # ค่า loss เฉลี่ยในการ validation (Average validation loss)\n",
    "        val_pred = torch.concatenate(val_pred, axis = 0).cpu().detach().numpy()  # ค่าทำนายในการ validation (Validation predictions) #Tensor → NumPy Array\n",
    "        val_true = torch.concatenate(val_true, axis = 0).cpu().detach().numpy()  # ค่าจริงในการ validation (True values for validation) #Tensor → NumPy Array\n",
    "\n",
    "        # แปลงค่าทำนายเป็นคลาส (0 หรือ 1) (Convert predictions to class labels)\n",
    "        prob_to_class = lambda p: 1 if p[0]>=0.5 else 0\n",
    "        val_pred = np.apply_along_axis(prob_to_class,1,val_pred)\n",
    "\n",
    "        # คำนวณความแม่นยำในการ validation (Calculate accuracy)\n",
    "        val_acc = accuracy_score(val_true, val_pred)\n",
    "\n",
    "        print(\"val loss:\", avg_val_loss)  # แสดงค่า loss ของ validation (Print validation loss)\n",
    "        print(\"val accuracy:\", val_acc)  # แสดงความแม่นยำของ validation (Print validation accuracy)\n",
    "\n",
    "        # ถ้าความแม่นยำในการ validation ดีที่สุด ให้บันทึกโมเดล (Save the model if validation accuracy improves)\n",
    "        if(best_val_acc < val_acc):\n",
    "            best_val_acc = val_acc\n",
    "            torch.save(model.state_dict(), model_checkpoint_path_feedforward_nn)  # บันทึกพารามิเตอร์ของโมเดล (Save model parameters)\n",
    "\n",
    "        # บันทึกข้อมูลการ validation ใน WandB (Log validation accuracy and loss to WandB)\n",
    "        wandb.log({\n",
    "            'val_accuracy' : val_acc,  # ความแม่นยำในการ validation (Validation accuracy)\n",
    "            'val_loss': avg_val_loss,  # ค่า loss ของ validation (Validation loss)\n",
    "        })\n"
   ]
  },
  {
   "cell_type": "markdown",
   "metadata": {
    "id": "h2CD11Eeiwyk"
   },
   "source": [
    "### Evaluate the model performance on the test set"
   ]
  },
  {
   "cell_type": "code",
   "execution_count": 23,
   "metadata": {
    "id": "07ErGkHMGhaV"
   },
   "outputs": [],
   "source": [
    "from sklearn.metrics import f1_score,precision_score,recall_score\n",
    "from sklearn.metrics import confusion_matrix\n",
    "import seaborn as sns\n",
    "\n",
    "################################################################################\n",
    "# A function to evaluate your model. This function must take test dataloader   #\n",
    "# and the input model to return f-score, precision, and recall of the model.   #\n",
    "################################################################################\n",
    "def evaluate(test_loader, model):\n",
    "  \"\"\"\n",
    "  Evaluate model on the splitted 10 percent testing set.\n",
    "  \"\"\"\n",
    "  model.eval()\n",
    "  with torch.no_grad():\n",
    "    test_loss = []\n",
    "    test_pred = []\n",
    "    test_true = []\n",
    "    for X_test, Y_test in tqdm(test_loader):\n",
    "      Y_pred = model(X_test)\n",
    "      loss = criterion(Y_pred, Y_test)\n",
    "      test_loss.append(loss)\n",
    "      test_pred.append(Y_pred)\n",
    "      test_true.append(Y_test)\n",
    "\n",
    "    avg_test_loss = torch.concatenate(test_loss, axis = 0).mean().item()\n",
    "    test_pred = torch.concatenate(test_pred, axis = 0).cpu().detach().numpy()\n",
    "    test_true = torch.concatenate(test_true, axis = 0).cpu().detach().numpy()\n",
    "\n",
    "    prob_to_class = lambda p: 1 if p[0]>=0.5 else 0\n",
    "    test_pred = np.apply_along_axis(prob_to_class,1,test_pred)\n",
    "\n",
    "    acc = accuracy_score(test_true, test_pred)\n",
    "    f1score = f1_score(test_true, test_pred)\n",
    "    precision = precision_score(test_true, test_pred)\n",
    "    recall = recall_score(test_true, test_pred)\n",
    "    \n",
    "   # Compute confusion matrix\n",
    "    conf_matrix = confusion_matrix(test_true, test_pred)\n",
    "\n",
    "    # Plot confusion matrix\n",
    "    plt.figure(figsize=(6, 5))\n",
    "    sns.heatmap(conf_matrix, annot=True, fmt=\"d\", cmap=\"Blues\", xticklabels=[0, 1], yticklabels=[0, 1])\n",
    "    plt.xlabel(\"Predicted Label\")\n",
    "    plt.ylabel(\"True Label\")\n",
    "    plt.title(\"Confusion Matrix\")\n",
    "    plt.show()\n",
    "\n",
    "  return acc, f1score, precision, recall, avg_test_loss"
   ]
  },
  {
   "cell_type": "code",
   "execution_count": 24,
   "metadata": {
    "colab": {
     "base_uri": "https://localhost:8080/",
     "height": 527
    },
    "executionInfo": {
     "elapsed": 37702,
     "status": "ok",
     "timestamp": 1739637910416,
     "user": {
      "displayName": "Paisit Khanarsa",
      "userId": "13279666281938719332"
     },
     "user_tz": -420
    },
    "id": "6ZoBB5YJGhaY",
    "outputId": "0bccf255-5575-4baa-b8ab-8044908390fc"
   },
   "outputs": [
    {
     "name": "stderr",
     "output_type": "stream",
     "text": [
      "C:\\Users\\Aitthikit\\AppData\\Local\\Temp\\ipykernel_34256\\1105749467.py:1: FutureWarning: You are using `torch.load` with `weights_only=False` (the current default value), which uses the default pickle module implicitly. It is possible to construct malicious pickle data which will execute arbitrary code during unpickling (See https://github.com/pytorch/pytorch/blob/main/SECURITY.md#untrusted-models for more details). In a future release, the default value for `weights_only` will be flipped to `True`. This limits the functions that could be executed during unpickling. Arbitrary objects will no longer be allowed to be loaded via this mode unless they are explicitly allowlisted by the user via `torch.serialization.add_safe_globals`. We recommend you start setting `weights_only=True` for any use case where you don't have full control of the loaded file. Please open an issue on GitHub for any issues related to this experimental feature.\n",
      "  model.load_state_dict(torch.load(model_checkpoint_path_feedforward_nn)) # load model with the best validation accuracy\n",
      "100%|██████████| 4438/4438 [00:12<00:00, 352.04it/s]\n"
     ]
    },
    {
     "data": {
      "image/png": "[encoded data removed]",
      "text/plain": [
       "<Figure size 600x500 with 2 Axes>"
      ]
     },
     "metadata": {},
     "output_type": "display_data"
    },
    {
     "data": {
      "text/html": [],
      "text/plain": [
       "<IPython.core.display.HTML object>"
      ]
     },
     "metadata": {},
     "output_type": "display_data"
    },
    {
     "data": {
      "text/html": [
       " View run <strong style=\"color:#cdcd00\">worthy-pine-22</strong> at: <a href='https://wandb.ai/memekhos001-kmutt/simpleff/runs/vacbkkqr' target=\"_blank\">https://wandb.ai/memekhos001-kmutt/simpleff/runs/vacbkkqr</a><br> View project at: <a href='https://wandb.ai/memekhos001-kmutt/simpleff' target=\"_blank\">https://wandb.ai/memekhos001-kmutt/simpleff</a><br>Synced 5 W&B file(s), 0 media file(s), 0 artifact file(s) and 0 other file(s)"
      ],
      "text/plain": [
       "<IPython.core.display.HTML object>"
      ]
     },
     "metadata": {},
     "output_type": "display_data"
    },
    {
     "data": {
      "text/html": [
       "Find logs at: <code>.\\wandb\\run-20250310_093757-vacbkkqr\\logs</code>"
      ],
      "text/plain": [
       "<IPython.core.display.HTML object>"
      ]
     },
     "metadata": {},
     "output_type": "display_data"
    },
    {
     "name": "stdout",
     "output_type": "stream",
     "text": [
      "(0.8965629252988205, 0.8142990123952378, 0.8146878523055906, 0.8139105434842705, 0.2612321674823761)\n"
     ]
    }
   ],
   "source": [
    "model.load_state_dict(torch.load(model_checkpoint_path_feedforward_nn)) # load model with the best validation accuracy\n",
    "result = evaluate(test_loader, model) # perform an evaluation on the test split\n",
    "\n",
    "wandb.finish() #ปิดการเชื่อมต่อกับ Weights & Biases\n",
    "print(result)\n"
   ]
  },
  {
   "cell_type": "markdown",
   "metadata": {
    "id": "KBuqJw3kGhaa"
   },
   "source": [
    "# TODO 1, 2 - Debugging\n",
    "\n",
    "In order to understand what is going on in your model and where the error is, you should try looking at the inputs your model made wrong predictions.\n",
    "\n",
    "In this task, write a function to print the characters on test data that got wrong prediction along with its context of size 10 (from [x-10] to [x+10]). Examine a fews of those and write your assumption on where the model got wrong prediction."
   ]
  },
  {
   "cell_type": "code",
   "execution_count": 25,
   "metadata": {},
   "outputs": [],
   "source": [
    "def convert_indices_to_chars(indices, char_map):\n",
    "    indices = np.concatenate((indices[10:20][::-1], indices[-1:], indices[0:10]))\n",
    "    index_to_char = {v: k for k, v in char_map.items()}  # Reverse the mapping\n",
    "    return \"\".join(index_to_char.get(int(idx), \"?\") for idx in indices)  # Convert and handle unknown indices\n",
    "\n",
    "def show_wrong_predictions(model, test_loader, criterion, device='cpu', context_size=10, idx_to_char=None):\n",
    "    model.eval()\n",
    "    wrong_samples = []\n",
    "\n",
    "    with torch.no_grad():\n",
    "        for X_test, Y_test in test_loader:\n",
    "            X_test, Y_test = X_test.to(device), Y_test.to(device)\n",
    "            Y_pred = model(X_test)\n",
    "\n",
    "            # If multi-class classification, use argmax\n",
    "            pred_labels = (Y_pred > 0.5).cpu().numpy().flatten()\n",
    "            true_labels = Y_test.cpu().numpy().flatten()\n",
    "\n",
    "            # Find misclassified indices\n",
    "            misclassified_indices = np.where(pred_labels != true_labels)[0]\n",
    "\n",
    "            for idx in misclassified_indices:\n",
    "                # Extract input character indices for the corresponding sample\n",
    "                input_chars = X_test[idx].cpu().numpy()\n",
    "\n",
    "                # Convert to readable characters\n",
    "                char_context = convert_indices_to_chars(input_chars, idx_to_char) if idx_to_char else input_chars\n",
    "\n",
    "                wrong_samples.append((idx, true_labels[idx], pred_labels[idx], char_context))\n",
    "\n",
    "    # Print results\n",
    "    print(\"Misclassified samples with context:\")\n",
    "    for idx, true_label, pred_label, char_context in wrong_samples[:10]:  # Show a few wrong predictions\n",
    "        true_char = str(int(true_label))  # Convert to string to ensure proper formatting\n",
    "        pred_char = str(int(pred_label))  # Convert to string to ensure proper formatting\n",
    "        print(f\"Index: {idx}, True: {true_char}, Pred: {pred_char}, Context: {char_context}, Input_Char: {char_context[10]}\")\n",
    "\n",
    "    return wrong_samples\n"
   ]
  },
  {
   "cell_type": "code",
   "execution_count": 28,
   "metadata": {
    "id": "YsV7cHslGhab"
   },
   "outputs": [
    {
     "data": {
      "text/html": [
       "Tracking run with wandb version 0.19.7"
      ],
      "text/plain": [
       "<IPython.core.display.HTML object>"
      ]
     },
     "metadata": {},
     "output_type": "display_data"
    },
    {
     "data": {
      "text/html": [
       "Run data is saved locally in <code>c:\\Users\\Aitthikit\\Desktop\\NLP\\wandb\\run-20250310_083615-p6oxz368</code>"
      ],
      "text/plain": [
       "<IPython.core.display.HTML object>"
      ]
     },
     "metadata": {},
     "output_type": "display_data"
    },
    {
     "data": {
      "text/html": [
       "Syncing run <strong><a href='https://wandb.ai/memekhos001-kmutt/simpleff/runs/p6oxz368' target=\"_blank\">glorious-firefly-19</a></strong> to <a href='https://wandb.ai/memekhos001-kmutt/simpleff' target=\"_blank\">Weights & Biases</a> (<a href='https://wandb.me/developer-guide' target=\"_blank\">docs</a>)<br>"
      ],
      "text/plain": [
       "<IPython.core.display.HTML object>"
      ]
     },
     "metadata": {},
     "output_type": "display_data"
    },
    {
     "data": {
      "text/html": [
       " View project at <a href='https://wandb.ai/memekhos001-kmutt/simpleff' target=\"_blank\">https://wandb.ai/memekhos001-kmutt/simpleff</a>"
      ],
      "text/plain": [
       "<IPython.core.display.HTML object>"
      ]
     },
     "metadata": {},
     "output_type": "display_data"
    },
    {
     "data": {
      "text/html": [
       " View run at <a href='https://wandb.ai/memekhos001-kmutt/simpleff/runs/p6oxz368' target=\"_blank\">https://wandb.ai/memekhos001-kmutt/simpleff/runs/p6oxz368</a>"
      ],
      "text/plain": [
       "<IPython.core.display.HTML object>"
      ]
     },
     "metadata": {},
     "output_type": "display_data"
    },
    {
     "name": "stdout",
     "output_type": "stream",
     "text": [
      "Misclassified samples with context:\n",
      "Index: 6, True: 1, Pred: 0, Context:     ปฏิรูปการศึกษา : , Input_Char: ก\n",
      "Index: 40, True: 1, Pred: 0, Context: วนทัศน์และบริบทสังคมไ, Input_Char: บ\n",
      "Index: 45, True: 1, Pred: 0, Context: น์และบริบทสังคมไทยThe, Input_Char: ส\n",
      "Index: 48, True: 0, Pred: 1, Context: ละบริบทสังคมไทยThe Re, Input_Char: ค\n",
      "Index: 50, True: 1, Pred: 0, Context: บริบทสังคมไทยThe Refo, Input_Char: ไ\n",
      "Index: 51, True: 0, Pred: 1, Context: ริบทสังคมไทยThe Refor, Input_Char: ท\n",
      "Index: 95, True: 0, Pred: 1, Context:  A Thai Perspectiveกร, Input_Char: r\n",
      "Index: 125, True: 1, Pred: 0, Context: และวิธีคิดแบบแยกส่วน , Input_Char: แ\n",
      "Index: 127, True: 0, Pred: 1, Context: ะวิธีคิดแบบแยกส่วน ลด, Input_Char: บ\n",
      "Index: 128, True: 1, Pred: 0, Context: วิธีคิดแบบแยกส่วน ลดส, Input_Char: แ\n"
     ]
    },
    {
     "data": {
      "text/html": [],
      "text/plain": [
       "<IPython.core.display.HTML object>"
      ]
     },
     "metadata": {},
     "output_type": "display_data"
    },
    {
     "data": {
      "text/html": [
       " View run <strong style=\"color:#cdcd00\">glorious-firefly-19</strong> at: <a href='https://wandb.ai/memekhos001-kmutt/simpleff/runs/p6oxz368' target=\"_blank\">https://wandb.ai/memekhos001-kmutt/simpleff/runs/p6oxz368</a><br> View project at: <a href='https://wandb.ai/memekhos001-kmutt/simpleff' target=\"_blank\">https://wandb.ai/memekhos001-kmutt/simpleff</a><br>Synced 5 W&B file(s), 0 media file(s), 0 artifact file(s) and 0 other file(s)"
      ],
      "text/plain": [
       "<IPython.core.display.HTML object>"
      ]
     },
     "metadata": {},
     "output_type": "display_data"
    },
    {
     "data": {
      "text/html": [
       "Find logs at: <code>.\\wandb\\run-20250310_083615-p6oxz368\\logs</code>"
      ],
      "text/plain": [
       "<IPython.core.display.HTML object>"
      ]
     },
     "metadata": {},
     "output_type": "display_data"
    }
   ],
   "source": [
    "# TODO#1\n",
    "# Write code to show a few of the errors the models made.\n",
    "# Assuming you have a trained model, test_loader, and idx_to_char mapping\n",
    "wandb.init(\n",
    "    project='simpleff',\n",
    "    config=config,\n",
    ")\n",
    "\n",
    "wrong_cases = show_wrong_predictions(model, test_loader, criterion, device=\"cuda\", idx_to_char=CHARS_MAP)\n",
    "wandb.finish() #ปิดการเชื่อมต่อกับ Weights & Biases\n",
    "\n",
    "pass"
   ]
  },
  {
   "cell_type": "markdown",
   "metadata": {
    "id": "tHjvB1syGhad"
   },
   "source": [
    "## Write your answer here\n",
    "\n",
    "**Your answer**: TODO#2"
   ]
  },
  {
   "cell_type": "markdown",
   "metadata": {
    "id": "KvYIoaL9Ghaf"
   },
   "source": [
    "# TODO 3, 4 - Dropout\n",
    "\n",
    "You might notice that the 3-layered feedforward does not use dropout at all. Now, try adding dropout to the model, run, and report the result again."
   ]
  },
  {
   "cell_type": "code",
   "execution_count": 29,
   "metadata": {
    "id": "6kCkj03VGhag"
   },
   "outputs": [],
   "source": [
    "################################################################################\n",
    "# TODO#3:                                                                      #\n",
    "# Write a model class that return feedforward model with dropout.              #\n",
    "################################################################################\n",
    "\n",
    "class SimpleFeedforwardNNWDropout(torch.nn.Module):\n",
    "    # การสร้างโมเดล (define model layers)\n",
    "  def __init__(self,dropout_rate = 0.1):\n",
    "    super(SimpleFeedforwardNNWDropout, self).__init__() #ใช้เรียกฟังก์ชันของคลาสหลัก เพื่อให้สามารถใช้คุณสมบัติของ torch.nn.Module ได้\n",
    "    \n",
    "    \n",
    "    # การกำหนดโครงสร้างของ Neural Network\n",
    "    # สร้างชั้นของ Fully Connected Layers (Define Fully Connected Layers) #โมเดลนี้มี 3 ชั้นซ่อน (Hidden Layers) และ 1 ชั้นเอาต์พุต (Output Layer)\n",
    "    self.mlp1 = torch.nn.Linear(21, 100)  # อินพุตมี 21 นิวรอน ส่งไปยัง 100 นิวรอน (Input: 21 neurons -> 100 neurons)\n",
    "    self.mlp2 = torch.nn.Linear(100, 100) # hidden ที่มี 100 นิวรอน (Hidden layer: 100 neurons)\n",
    "    self.mlp3 = torch.nn.Linear(100, 100) # hidden อีกชั้น (Another hidden layer: 100 neurons)\n",
    "    self.cls_head = torch.nn.Linear(100, 1)  # เอาต์พุตเป็น 1 นิวรอน (Output layer: 1 neuron)\n",
    "    self.dropout = torch.nn.Dropout(p=dropout_rate)\n",
    "    \n",
    "    # การกำหนดการไหลของข้อมูลในโมเดล\n",
    "  def forward(self, x):\n",
    "    x = F.relu(self.mlp1(x))  # ใช้ ReLU Activation (Apply ReLU activation)\n",
    "    x = F.relu(self.mlp2(x))\n",
    "    x = self.dropout(x)\n",
    "    x = F.relu(self.mlp3(x))\n",
    "    x = self.dropout(x)\n",
    "    x = self.cls_head(x)  # ไม่มี Activation Function ที่ output layer (No activation function at the output layer)\n",
    "    out = torch.sigmoid(x)  # ใช้ Sigmoid เพื่อให้ค่าผลลัพธ์อยู่ในช่วง [0,1] (Use Sigmoid to get values in the range [0,1])\n",
    "    return out"
   ]
  },
  {
   "cell_type": "code",
   "execution_count": null,
   "metadata": {
    "id": "8i08GqWiGhai"
   },
   "outputs": [
    {
     "data": {
      "text/html": [
       "Tracking run with wandb version 0.19.7"
      ],
      "text/plain": [
       "<IPython.core.display.HTML object>"
      ]
     },
     "metadata": {},
     "output_type": "display_data"
    },
    {
     "data": {
      "text/html": [
       "Run data is saved locally in <code>c:\\Users\\Aitthikit\\Desktop\\NLP\\wandb\\run-20250310_083800-76fylrcj</code>"
      ],
      "text/plain": [
       "<IPython.core.display.HTML object>"
      ]
     },
     "metadata": {},
     "output_type": "display_data"
    },
    {
     "data": {
      "text/html": [
       "Syncing run <strong><a href='https://wandb.ai/memekhos001-kmutt/simpleff/runs/76fylrcj' target=\"_blank\">silvery-dream-20</a></strong> to <a href='https://wandb.ai/memekhos001-kmutt/simpleff' target=\"_blank\">Weights & Biases</a> (<a href='https://wandb.me/developer-guide' target=\"_blank\">docs</a>)<br>"
      ],
      "text/plain": [
       "<IPython.core.display.HTML object>"
      ]
     },
     "metadata": {},
     "output_type": "display_data"
    },
    {
     "data": {
      "text/html": [
       " View project at <a href='https://wandb.ai/memekhos001-kmutt/simpleff' target=\"_blank\">https://wandb.ai/memekhos001-kmutt/simpleff</a>"
      ],
      "text/plain": [
       "<IPython.core.display.HTML object>"
      ]
     },
     "metadata": {},
     "output_type": "display_data"
    },
    {
     "data": {
      "text/html": [
       " View run at <a href='https://wandb.ai/memekhos001-kmutt/simpleff/runs/76fylrcj' target=\"_blank\">https://wandb.ai/memekhos001-kmutt/simpleff/runs/76fylrcj</a>"
      ],
      "text/plain": [
       "<IPython.core.display.HTML object>"
      ]
     },
     "metadata": {},
     "output_type": "display_data"
    }
   ],
   "source": [
    "################################################################################\n",
    "# TODO#4:                                                                      #\n",
    "# Write code that performs a training process. Select your batch size carefully#\n",
    "# as it will affect your model's ability to converge and                       #\n",
    "# time needed for one epoch.                                                   #\n",
    "################################################################################\n",
    "# Complete the code to train your model with dropout\n",
    "model_nn_with_dropout = SimpleFeedforwardNNWDropout().cuda()\n",
    "# summary(model_nn_with_dropout,  torch.zeros((1, 21), dtype = torch.float).cuda() ) #summarize the model# TODO#4\n",
    "summary(model_nn_with_dropout, input_size=(1, 21))\n",
    "################################################################################\n",
    "#                            WRITE YOUR CODE BELOW                             #\n",
    "################################################################################\n",
    "\n",
    "NUM_EPOCHS = 3 # จำนวนรอบการฝึก (epochs)\n",
    "model_dropout_checkpoint_path_feedforward_nn = './model_dropout_weight_feedforward_nn.h5' # ไฟล์สำหรับบันทึกน้ำหนักของโมเดล\n",
    "criterion = torch.nn.BCELoss(reduction = 'none') # ฟังก์ชัน Loss สำหรับ Binary Classification\n",
    "BATCHS_SIZE = 512  # ขนาดของ Batch\n",
    "optimizer = optim.Adam(model_nn_with_dropout.parameters(), lr=5e-4) # ใช้ Adam optimizer ในการอัปเดตค่าถ่วงน้ำหนัก\n",
    "eps = 1e-10 # ค่าคงที่ขนาดเล็กเพื่อป้องกันการหารด้วยศูนย์\n",
    "\n",
    "wandb.init(project=\"simpleff\",config={\n",
    "    'architecture': 'Dropout',\n",
    "    'epochs': 3\n",
    "})  # Start a new W&B run\n",
    "\n"
   ]
  },
  {
   "cell_type": "code",
   "execution_count": 31,
   "metadata": {},
   "outputs": [
    {
     "name": "stdout",
     "output_type": "stream",
     "text": [
      "EPOCH : 1\n",
      "TRAINING LOOP\n"
     ]
    },
    {
     "name": "stderr",
     "output_type": "stream",
     "text": [
      "100%|██████████| 32152/32152 [02:05<00:00, 257.02it/s]\n"
     ]
    },
    {
     "name": "stdout",
     "output_type": "stream",
     "text": [
      "VALIDATION LOOP\n"
     ]
    },
    {
     "name": "stderr",
     "output_type": "stream",
     "text": [
      "100%|██████████| 3976/3976 [00:11<00:00, 357.80it/s]\n"
     ]
    },
    {
     "name": "stdout",
     "output_type": "stream",
     "text": [
      "val loss: 0.3288961350917816\n",
      "val accuracy: 0.8594361431531458\n",
      "EPOCH : 2\n",
      "TRAINING LOOP\n"
     ]
    },
    {
     "name": "stderr",
     "output_type": "stream",
     "text": [
      "100%|██████████| 32152/32152 [02:13<00:00, 241.37it/s]\n"
     ]
    },
    {
     "name": "stdout",
     "output_type": "stream",
     "text": [
      "VALIDATION LOOP\n"
     ]
    },
    {
     "name": "stderr",
     "output_type": "stream",
     "text": [
      "100%|██████████| 3976/3976 [00:11<00:00, 360.09it/s]\n"
     ]
    },
    {
     "name": "stdout",
     "output_type": "stream",
     "text": [
      "val loss: 0.31204161047935486\n",
      "val accuracy: 0.8680887206033913\n",
      "EPOCH : 3\n",
      "TRAINING LOOP\n"
     ]
    },
    {
     "name": "stderr",
     "output_type": "stream",
     "text": [
      "100%|██████████| 32152/32152 [02:04<00:00, 258.20it/s]\n"
     ]
    },
    {
     "name": "stdout",
     "output_type": "stream",
     "text": [
      "VALIDATION LOOP\n"
     ]
    },
    {
     "name": "stderr",
     "output_type": "stream",
     "text": [
      "100%|██████████| 3976/3976 [00:11<00:00, 359.89it/s]\n"
     ]
    },
    {
     "name": "stdout",
     "output_type": "stream",
     "text": [
      "val loss: 0.2937262952327728\n",
      "val accuracy: 0.8775243234002753\n"
     ]
    }
   ],
   "source": [
    "# ติดตามการฝึกโมเดลด้วย Weights & Biases (Track the model training with Weights & Biases)\n",
    "wandb.watch(model_nn_with_dropout, log='all')\n",
    "\n",
    "\n",
    "idx = 0 # ใช้นับจำนวนรอบการอัปเดตพารามิเตอร์ (iterations)\n",
    "best_val_acc = 0 #ใช้เก็บค่าความแม่นยำสูงสุดที่ได้จาก validation\n",
    "\n",
    "# เริ่มต้นรอบการฝึก (Training loop for NUM_EPOCHS)\n",
    "for n_epoch in range(NUM_EPOCHS):\n",
    "    print(\"EPOCH :\", n_epoch + 1)  # แสดงหมายเลขรอบฝึก (Print current epoch number)\n",
    "\n",
    "    model_nn_with_dropout.train() # set โมเดลให้อยู่ในโหมดการฝึก (Set the model to training mode)\n",
    "    print(\"TRAINING LOOP\")\n",
    "\n",
    "    # วนลูปฝึกแต่ละ batch จาก train_loader (Iterate through training batches)\n",
    "    for X_train, Y_train in tqdm(train_loader): # วนลูปแต่ละ batch ของข้อมูลฝึก\n",
    "        optimizer.zero_grad()  # เคลียร์ gradient ของรอบที่แล้ว (Clear gradients from previous step)\n",
    "        Y_pred = model_nn_with_dropout(X_train)  # คำนวณค่าทำนาย (Make predictions)\n",
    "        loss = criterion(Y_pred, Y_train).mean()  # คำนวณ loss (Calculate the loss)\n",
    "        loss.backward()  # คำนวณ gradients (Backpropagation)\n",
    "        optimizer.step()  # อัปเดตพารามิเตอร์โมเดล (Update model parameters)\n",
    "\n",
    "        # บันทึกข้อมูลการฝึกใน WandB (Log training loss and iteration count to WandB)\n",
    "        wandb.log({\n",
    "            'train_loss': loss,  # ค่าความสูญเสียในการฝึก (Training loss)\n",
    "            'n_iter' : idx  # จำนวนการวนรอบ (Iteration count)\n",
    "        })\n",
    "\n",
    "        idx += 1  # เพิ่มค่าจำนวน Iteration\n",
    "\n",
    "    # เริ่ม validation loop (Validation loop: ใช้ accuracy เป็นเมตริกหลัก) (Validation loop for simplicity using accuracy as the primary metric)\n",
    "    model_nn_with_dropout.eval()  # set โมเดลให้อยู่ในโหมด validation (Set the model to evaluation mode)\n",
    "    with torch.no_grad():  # ปิดการคำนวณ gradient สำหรับ validation (Disable gradient computation)\n",
    "        print(\"VALIDATION LOOP\")\n",
    "\n",
    "        # ตัวแปรเก็บข้อมูลสำหรับการ validation (Initialize variables for validation data)\n",
    "        val_loss = []\n",
    "        val_pred = []\n",
    "        val_true = []\n",
    "\n",
    "        for X_val, Y_val in tqdm(val_loader): # วนลูปแต่ละ batch ของ validation\n",
    "            Y_pred = model_nn_with_dropout(X_val)  # คำนวณค่าทำนายจาก validation (Make predictions on validation data)\n",
    "            loss = criterion(Y_pred, Y_val)  # คำนวณค่า loss (Calculate the loss)\n",
    "\n",
    "            # เก็บข้อมูล loss และค่าทำนายใน validation (Store loss and predictions)\n",
    "            val_loss.append(loss)\n",
    "            val_pred.append(Y_pred)\n",
    "            val_true.append(Y_val)\n",
    "\n",
    "        # คำนวณค่า loss และความแม่นยำเฉลี่ยในการ validation (Calculate average validation loss and accuracy)\n",
    "        avg_val_loss = torch.concatenate(val_loss, axis = 0).mean().item()  # ค่า loss เฉลี่ยในการ validation (Average validation loss)\n",
    "        val_pred = torch.concatenate(val_pred, axis = 0).cpu().detach().numpy()  # ค่าทำนายในการ validation (Validation predictions) #Tensor → NumPy Array\n",
    "        val_true = torch.concatenate(val_true, axis = 0).cpu().detach().numpy()  # ค่าจริงในการ validation (True values for validation) #Tensor → NumPy Array\n",
    "\n",
    "        # แปลงค่าทำนายเป็นคลาส (0 หรือ 1) (Convert predictions to class labels)\n",
    "        prob_to_class = lambda p: 1 if p[0]>=0.5 else 0\n",
    "        val_pred = np.apply_along_axis(prob_to_class,1,val_pred)\n",
    "\n",
    "        # คำนวณความแม่นยำในการ validation (Calculate accuracy)\n",
    "        val_acc = accuracy_score(val_true, val_pred)\n",
    "\n",
    "        print(\"val loss:\", avg_val_loss)  # แสดงค่า loss ของ validation (Print validation loss)\n",
    "        print(\"val accuracy:\", val_acc)  # แสดงความแม่นยำของ validation (Print validation accuracy)\n",
    "\n",
    "        # ถ้าความแม่นยำในการ validation ดีที่สุด ให้บันทึกโมเดล (Save the model if validation accuracy improves)\n",
    "        if(best_val_acc < val_acc):\n",
    "            best_val_acc = val_acc\n",
    "            torch.save(model_nn_with_dropout.state_dict(), model_dropout_checkpoint_path_feedforward_nn)  # บันทึกพารามิเตอร์ของโมเดล (Save model parameters)\n",
    "\n",
    "        # บันทึกข้อมูลการ validation ใน WandB (Log validation accuracy and loss to WandB)\n",
    "        wandb.log({\n",
    "            'val_accuracy' : val_acc,  # ความแม่นยำในการ validation (Validation accuracy)\n",
    "            'val_loss': avg_val_loss,  # ค่า loss ของ validation (Validation loss)\n",
    "        })\n"
   ]
  },
  {
   "cell_type": "code",
   "execution_count": null,
   "metadata": {
    "id": "BhnDFcAaGhan"
   },
   "outputs": [
    {
     "name": "stderr",
     "output_type": "stream",
     "text": [
      "C:\\Users\\Aitthikit\\AppData\\Local\\Temp\\ipykernel_32980\\1857744595.py:1: FutureWarning: You are using `torch.load` with `weights_only=False` (the current default value), which uses the default pickle module implicitly. It is possible to construct malicious pickle data which will execute arbitrary code during unpickling (See https://github.com/pytorch/pytorch/blob/main/SECURITY.md#untrusted-models for more details). In a future release, the default value for `weights_only` will be flipped to `True`. This limits the functions that could be executed during unpickling. Arbitrary objects will no longer be allowed to be loaded via this mode unless they are explicitly allowlisted by the user via `torch.serialization.add_safe_globals`. We recommend you start setting `weights_only=True` for any use case where you don't have full control of the loaded file. Please open an issue on GitHub for any issues related to this experimental feature.\n",
      "  model_nn_with_dropout.load_state_dict(torch.load(model_dropout_checkpoint_path_feedforward_nn))\n",
      "  0%|          | 0/4438 [00:00<?, ?it/s]"
     ]
    },
    {
     "name": "stderr",
     "output_type": "stream",
     "text": [
      "100%|██████████| 4438/4438 [00:13<00:00, 333.62it/s]\n"
     ]
    },
    {
     "data": {
      "image/png": "[encoded data removed]",
      "text/plain": [
       "<Figure size 600x500 with 2 Axes>"
      ]
     },
     "metadata": {},
     "output_type": "display_data"
    },
    {
     "data": {
      "text/html": [],
      "text/plain": [
       "<IPython.core.display.HTML object>"
      ]
     },
     "metadata": {},
     "output_type": "display_data"
    },
    {
     "data": {
      "text/html": [
       "<br>    <style><br>        .wandb-row {<br>            display: flex;<br>            flex-direction: row;<br>            flex-wrap: wrap;<br>            justify-content: flex-start;<br>            width: 100%;<br>        }<br>        .wandb-col {<br>            display: flex;<br>            flex-direction: column;<br>            flex-basis: 100%;<br>            flex: 1;<br>            padding: 10px;<br>        }<br>    </style><br><div class=\"wandb-row\"><div class=\"wandb-col\"><h3>Run history:</h3><br/><table class=\"wandb\"><tr><td>n_iter</td><td>▁▁▁▁▁▂▂▂▃▃▃▃▄▄▄▄▄▄▄▄▅▅▅▅▅▅▅▅▆▆▆▆▆▆▆▇▇▇██</td></tr><tr><td>train_loss</td><td>▇▄▂▆▅▅▂▇█▃▄▆▁▄▃▂▂▂▅▃▄▄▂▃▂▃▃▂▃▁▁▂▃▂▃▃▃▂▂▃</td></tr><tr><td>val_accuracy</td><td>▁▄█</td></tr><tr><td>val_loss</td><td>█▅▁</td></tr></table><br/></div><div class=\"wandb-col\"><h3>Run summary:</h3><br/><table class=\"wandb\"><tr><td>n_iter</td><td>96455</td></tr><tr><td>train_loss</td><td>0.26575</td></tr><tr><td>val_accuracy</td><td>0.87752</td></tr><tr><td>val_loss</td><td>0.29373</td></tr></table><br/></div></div>"
      ],
      "text/plain": [
       "<IPython.core.display.HTML object>"
      ]
     },
     "metadata": {},
     "output_type": "display_data"
    },
    {
     "data": {
      "text/html": [
       " View run <strong style=\"color:#cdcd00\">silvery-dream-20</strong> at: <a href='https://wandb.ai/memekhos001-kmutt/simpleff/runs/76fylrcj' target=\"_blank\">https://wandb.ai/memekhos001-kmutt/simpleff/runs/76fylrcj</a><br> View project at: <a href='https://wandb.ai/memekhos001-kmutt/simpleff' target=\"_blank\">https://wandb.ai/memekhos001-kmutt/simpleff</a><br>Synced 5 W&B file(s), 0 media file(s), 0 artifact file(s) and 0 other file(s)"
      ],
      "text/plain": [
       "<IPython.core.display.HTML object>"
      ]
     },
     "metadata": {},
     "output_type": "display_data"
    },
    {
     "data": {
      "text/html": [
       "Find logs at: <code>.\\wandb\\run-20250310_083800-76fylrcj\\logs</code>"
      ],
      "text/plain": [
       "<IPython.core.display.HTML object>"
      ]
     },
     "metadata": {},
     "output_type": "display_data"
    },
    {
     "name": "stdout",
     "output_type": "stream",
     "text": [
      "(0.8801768714908721, 0.7740649877500614, 0.8154754930848338, 0.7366569517174925, 0.2901938259601593)\n"
     ]
    }
   ],
   "source": [
    "model_nn_with_dropout.load_state_dict(torch.load(model_dropout_checkpoint_path_feedforward_nn))\n",
    "result = evaluate(test_loader, model_nn_with_dropout)\n",
    "test_loader = DataLoader(Dataset(x_test_char, y_test, dtype = 'float'), batch_size = BATCHS_SIZE)\n",
    "wrong_cases = show_wrong_predictions(model_nn_with_dropout, test_loader, criterion, device=\"cuda\", idx_to_char=CHARS_MAP)\n",
    "wandb.finish() #ปิดการเชื่อมต่อกับ Weights & Biases\n",
    "\n",
    "print(result)"
   ]
  },
  {
   "cell_type": "markdown",
   "metadata": {
    "id": "fOTSGof4Ghaq"
   },
   "source": [
    "# TODO 5, 6 - Convolution Neural Networks\n",
    "\n",
    "Now, you are going to implement you own 1d-convolution neural networks with the following structure:\n",
    "\n",
    "Now, you are going to implement you own 1d-convolution neural networks with the following structure:\n",
    "input (size 21) -> embedding layer (size 32) -> 1D-convolution layer (100 filters of size 5, strides of 1) -> Dense size 5 (applied across time dimension) -> fully-connected layer (size 100) -> output (size 1).\n",
    "\n",
    "These parameters are simple guidelines to save your time. You can play with them in the final section.\n",
    "\n",
    "The results should be better than the feedforward model.\n",
    "\n",
    "Embedding layers turn the input from a one-hot vector into better representations via some feature transform (a simple matrix multiply in this case).\n",
    "\n"
   ]
  },
  {
   "cell_type": "markdown",
   "metadata": {
    "id": "_P00BrG0JL9J"
   },
   "source": [
    "![323541225_928613208521825_2025283607119143119_n.png](data:image/png;base64,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)"
   ]
  },
  {
   "cell_type": "markdown",
   "metadata": {
    "id": "MzyiwRCCJLEr"
   },
   "source": [
    "\n",
    "Note you need to flatten the tensor before the final fully connected layer because of dimension mis-match. The tensor could be reshaped using the `view` method.\n",
    "\n",
    "Do consult PyTorch documentation on how to use [embedding layers](https://pytorch.org/docs/stable/generated/torch.nn.Embedding.html) and [1D-cnn](https://pytorch.org/docs/stable/generated/torch.nn.Conv1d.html).\n",
    "\n",
    "Hint: to apply dense5 across the time dimension you should read about how the multiplication in the dense layer is applied. The output of the 1D-cnn should be [batch x nfilter x sequence length]. We want to apply the dense5 (a weight matrix of size 100 x 5) by multiplying the same set of numbers over the nfilter dimension repeated over the sequence length (this can be possible via broadcasting) which should give an output of [batch x 5 x sequence length]. You might want to use the function [transpose](https://pytorch.org/docs/stable/generated/torch.transpose.html) somehow.\n",
    "\n",
    "Even more hints: https://stackoverflow.com/questions/58587057/multi-dimensional-inputs-in-pytorch-linear-method\n"
   ]
  },
  {
   "cell_type": "code",
   "execution_count": 27,
   "metadata": {
    "id": "5ruKGHjTGhaq"
   },
   "outputs": [],
   "source": [
    "################################################################################\n",
    "# TODO#5:                                                                      #\n",
    "# Write a function that returns convolution nueral network model.              #\n",
    "# You can choose any normalization methods, activation function, as well as    #\n",
    "# any hyperparameter the way you want. Your goal is to predict a score         #\n",
    "# between [0,1] for each input whether it is the beginning of the word or not. #\n",
    "#                                                                              #\n",
    "# Hint: You should read PyTorch documentation to see the list of available     #\n",
    "# layers and options you can use.                                              #\n",
    "################################################################################\n",
    "\n",
    "class SimpleCNN(torch.nn.Module):\n",
    "    # การสร้างโมเดล (define model layers)\n",
    "  def __init__(self,dropout_rate = 0.1):\n",
    "    super(SimpleCNN, self).__init__() #ใช้เรียกฟังก์ชันของคลาสหลัก เพื่อให้สามารถใช้คุณสมบัติของ torch.nn.Module ได้\n",
    "    \n",
    "    self.embedding = torch.nn.Embedding(178,32)\n",
    "    self.conv1d = torch.nn.Conv1d(in_channels=32,out_channels=100,kernel_size=5,padding=\"same\")\n",
    "    self.dense_time = torch.nn.Linear(100,5)\n",
    "    self.flatten = torch.nn.Flatten()\n",
    "    # การกำหนดโครงสร้างของ Neural Network\n",
    "    # สร้างชั้นของ Fully Connected Layers (Define Fully Connected Layers) #โมเดลนี้มี 3 ชั้นซ่อน (Hidden Layers) และ 1 ชั้นเอาต์พุต (Output Layer)\n",
    "    self.mlp1 = torch.nn.Linear(21*5, 100)  # อินพุตมี 21 นิวรอน ส่งไปยัง 100 นิวรอน (Input: 21 neurons -> 100 neurons)\n",
    "    self.cls_head = torch.nn.Linear(100, 1)  # เอาต์พุตเป็น 1 นิวรอน (Output layer: 1 neuron)\n",
    "    self.dropout = torch.nn.Dropout(p=dropout_rate)\n",
    "    \n",
    "    # การกำหนดการไหลของข้อมูลในโมเดล\n",
    "  def forward(self, x):\n",
    "     # Embedding Layer\n",
    "      x = self.embedding(x)  # Output: (batch_size, 21, 32)\n",
    "      \n",
    "      # Conv1D Layer (Change shape for Conv1D)\n",
    "      x = x.permute(0, 2, 1)  # Change shape to (batch_size, 32, 21) for Conv1D\n",
    "      x = F.relu(self.conv1d(x))  # Output: (batch_size, 100, ?)\n",
    "      x = x.permute(0, 2, 1)  # Back to (batch_size, 21, 100)\n",
    "\n",
    "      # Dense across time (apply fully connected layer across time steps)\n",
    "      x = F.relu(self.dense_time(x))  # Output: (batch_size, 21, 5)\n",
    "\n",
    "      # Flatten and Pass through MLP\n",
    "      x = self.flatten(x)  # Output: (batch_size, 21*5)\n",
    "      x = F.relu(self.mlp1(x))\n",
    "      x = self.cls_head(x)  # No activation for final output\n",
    "      out = torch.sigmoid(x)  # ใช้ Sigmoid เพื่อให้ค่าผลลัพธ์อยู่ในช่วง [0,1] (Use Sigmoid to get values in the range [0,1])\n",
    "      return out"
   ]
  },
  {
   "cell_type": "code",
   "execution_count": 28,
   "metadata": {
    "id": "uAohzSijGhas"
   },
   "outputs": [
    {
     "name": "stdout",
     "output_type": "stream",
     "text": [
      "==========================================================================================\n",
      "Layer (type:depth-idx)                   Output Shape              Param #\n",
      "==========================================================================================\n",
      "SimpleCNN                                [1, 1]                    --\n",
      "├─Embedding: 1-1                         [1, 21, 32]               5,696\n",
      "├─Conv1d: 1-2                            [1, 100, 21]              16,100\n",
      "├─Linear: 1-3                            [1, 21, 5]                505\n",
      "├─Flatten: 1-4                           [1, 105]                  --\n",
      "├─Linear: 1-5                            [1, 100]                  10,600\n",
      "├─Linear: 1-6                            [1, 1]                    101\n",
      "==========================================================================================\n",
      "Total params: 33,002\n",
      "Trainable params: 33,002\n",
      "Non-trainable params: 0\n",
      "Total mult-adds (Units.MEGABYTES): 0.36\n",
      "==========================================================================================\n",
      "Input size (MB): 0.00\n",
      "Forward/backward pass size (MB): 0.02\n",
      "Params size (MB): 0.13\n",
      "Estimated Total Size (MB): 0.16\n",
      "==========================================================================================\n"
     ]
    },
    {
     "data": {
      "text/html": [
       "Tracking run with wandb version 0.19.7"
      ],
      "text/plain": [
       "<IPython.core.display.HTML object>"
      ]
     },
     "metadata": {},
     "output_type": "display_data"
    },
    {
     "data": {
      "text/html": [
       "Run data is saved locally in <code>c:\\Users\\Aitthikit\\Desktop\\NLP\\wandb\\run-20250310_093926-h37ioyvy</code>"
      ],
      "text/plain": [
       "<IPython.core.display.HTML object>"
      ]
     },
     "metadata": {},
     "output_type": "display_data"
    },
    {
     "data": {
      "text/html": [
       "Syncing run <strong><a href='https://wandb.ai/memekhos001-kmutt/simpleff/runs/h37ioyvy' target=\"_blank\">CNN</a></strong> to <a href='https://wandb.ai/memekhos001-kmutt/simpleff' target=\"_blank\">Weights & Biases</a> (<a href='https://wandb.me/developer-guide' target=\"_blank\">docs</a>)<br>"
      ],
      "text/plain": [
       "<IPython.core.display.HTML object>"
      ]
     },
     "metadata": {},
     "output_type": "display_data"
    },
    {
     "data": {
      "text/html": [
       " View project at <a href='https://wandb.ai/memekhos001-kmutt/simpleff' target=\"_blank\">https://wandb.ai/memekhos001-kmutt/simpleff</a>"
      ],
      "text/plain": [
       "<IPython.core.display.HTML object>"
      ]
     },
     "metadata": {},
     "output_type": "display_data"
    },
    {
     "data": {
      "text/html": [
       " View run at <a href='https://wandb.ai/memekhos001-kmutt/simpleff/runs/h37ioyvy' target=\"_blank\">https://wandb.ai/memekhos001-kmutt/simpleff/runs/h37ioyvy</a>"
      ],
      "text/plain": [
       "<IPython.core.display.HTML object>"
      ]
     },
     "metadata": {},
     "output_type": "display_data"
    },
    {
     "data": {
      "text/html": [
       "<button onClick=\"this.nextSibling.style.display='block';this.style.display='none';\">Display W&B run</button><iframe src='https://wandb.ai/memekhos001-kmutt/simpleff/runs/h37ioyvy?jupyter=true' style='border:none;width:100%;height:420px;display:none;'></iframe>"
      ],
      "text/plain": [
       "<wandb.sdk.wandb_run.Run at 0x20424a2bb90>"
      ]
     },
     "execution_count": 28,
     "metadata": {},
     "output_type": "execute_result"
    }
   ],
   "source": [
    "################################################################################\n",
    "# TODO#6:                                                                      #\n",
    "# Write code that performs a training process. Select your batch size carefully#\n",
    "# as it will affect your model's ability to converge and                       #\n",
    "# time needed for one epoch.                                                   #\n",
    "################################################################################\n",
    "model_conv1d_nn = SimpleCNN().cuda()\n",
    "# summary(model_conv1d_nn,  torch.zeros((64, 21), dtype = torch.long).cuda() ) #summarize the model\n",
    "summary(model_conv1d_nn, input_size=(1, 21), dtypes = [torch.long])\n",
    "################################################################################\n",
    "#                            WRITE YOUR CODE BELOW                             #\n",
    "################################################################################\n",
    "NUM_EPOCHS = 3 # จำนวนรอบการฝึก (epochs)\n",
    "model_CNN_checkpoint_path_feedforward_nn = './model_CNN.h5' # ไฟล์สำหรับบันทึกน้ำหนักของโมเดล\n",
    "criterion = torch.nn.BCELoss(reduction = 'none') # ฟังก์ชัน Loss สำหรับ Binary Classification\n",
    "BATCHS_SIZE = 512  # ขนาดของ Batch\n",
    "optimizer = optim.Adam(model_conv1d_nn.parameters(), lr=5e-4) # ใช้ Adam optimizer ในการอัปเดตค่าถ่วงน้ำหนัก\n",
    "eps = 1e-10 # ค่าคงที่ขนาดเล็กเพื่อป้องกันการหารด้วยศูนย์\n",
    "print(summary(model_conv1d_nn, input_size=(1, 21), dtypes = [torch.long]))\n",
    "\n",
    "wandb.init(project=\"simpleff\",config={\n",
    "    'architecture': 'CNN',\n",
    "    'epochs': 3},name=\"CNN\")  # Start a new W&B run"
   ]
  },
  {
   "cell_type": "code",
   "execution_count": 29,
   "metadata": {},
   "outputs": [
    {
     "name": "stdout",
     "output_type": "stream",
     "text": [
      "EPOCH : 1\n",
      "TRAINING LOOP\n"
     ]
    },
    {
     "name": "stderr",
     "output_type": "stream",
     "text": [
      "100%|██████████| 32152/32152 [02:34<00:00, 208.61it/s]\n"
     ]
    },
    {
     "name": "stdout",
     "output_type": "stream",
     "text": [
      "VALIDATION LOOP\n"
     ]
    },
    {
     "name": "stderr",
     "output_type": "stream",
     "text": [
      "100%|██████████| 3976/3976 [00:11<00:00, 335.02it/s]\n"
     ]
    },
    {
     "name": "stdout",
     "output_type": "stream",
     "text": [
      "val loss: 0.098788321018219\n",
      "val accuracy: 0.964057466397209\n",
      "EPOCH : 2\n",
      "TRAINING LOOP\n"
     ]
    },
    {
     "name": "stderr",
     "output_type": "stream",
     "text": [
      "100%|██████████| 32152/32152 [02:27<00:00, 217.53it/s]\n"
     ]
    },
    {
     "name": "stdout",
     "output_type": "stream",
     "text": [
      "VALIDATION LOOP\n"
     ]
    },
    {
     "name": "stderr",
     "output_type": "stream",
     "text": [
      "100%|██████████| 3976/3976 [00:11<00:00, 336.33it/s]\n"
     ]
    },
    {
     "name": "stdout",
     "output_type": "stream",
     "text": [
      "val loss: 0.08779072016477585\n",
      "val accuracy: 0.9683704918322695\n",
      "EPOCH : 3\n",
      "TRAINING LOOP\n"
     ]
    },
    {
     "name": "stderr",
     "output_type": "stream",
     "text": [
      "100%|██████████| 32152/32152 [02:33<00:00, 209.41it/s]\n"
     ]
    },
    {
     "name": "stdout",
     "output_type": "stream",
     "text": [
      "VALIDATION LOOP\n"
     ]
    },
    {
     "name": "stderr",
     "output_type": "stream",
     "text": [
      "100%|██████████| 3976/3976 [00:12<00:00, 329.47it/s]\n"
     ]
    },
    {
     "name": "stdout",
     "output_type": "stream",
     "text": [
      "val loss: 0.08160071074962616\n",
      "val accuracy: 0.9707853930895312\n"
     ]
    }
   ],
   "source": [
    "# ติดตามการฝึกโมเดลด้วย Weights & Biases (Track the model training with Weights & Biases)\n",
    "wandb.watch(model_conv1d_nn, log='all')\n",
    "\n",
    "\n",
    "idx = 0 # ใช้นับจำนวนรอบการอัปเดตพารามิเตอร์ (iterations)\n",
    "best_val_acc = 0 #ใช้เก็บค่าความแม่นยำสูงสุดที่ได้จาก validation\n",
    "\n",
    "# เริ่มต้นรอบการฝึก (Training loop for NUM_EPOCHS)\n",
    "for n_epoch in range(NUM_EPOCHS):\n",
    "    print(\"EPOCH :\", n_epoch + 1)  # แสดงหมายเลขรอบฝึก (Print current epoch number)\n",
    "\n",
    "    model_conv1d_nn.train() # set โมเดลให้อยู่ในโหมดการฝึก (Set the model to training mode)\n",
    "    print(\"TRAINING LOOP\")\n",
    "\n",
    "    # วนลูปฝึกแต่ละ batch จาก train_loader (Iterate through training batches)\n",
    "    for X_train, Y_train in tqdm(train_loader): # วนลูปแต่ละ batch ของข้อมูลฝึก\n",
    "        # print(\"Before conversion:\", X_train.dtype)  # Should be torch.float32\n",
    "        X_train = X_train.long()\n",
    "        # print(\"After conversion:\", X_train.dtype)  # Should be torch.int64\n",
    "        # print(f\"Min index: {X_train.min()}, Max index: {X_train.max()}\")\n",
    "        # break\n",
    "        optimizer.zero_grad()  # เคลียร์ gradient ของรอบที่แล้ว (Clear gradients from previous step)\n",
    "        Y_pred = model_conv1d_nn(X_train)  # คำนวณค่าทำนาย (Make predictions)\n",
    "        loss = criterion(Y_pred, Y_train).mean()  # คำนวณ loss (Calculate the loss)\n",
    "        loss.backward()  # คำนวณ gradients (Backpropagation)\n",
    "        optimizer.step()  # อัปเดตพารามิเตอร์โมเดล (Update model parameters)\n",
    "\n",
    "        # บันทึกข้อมูลการฝึกใน WandB (Log training loss and iteration count to WandB)\n",
    "        wandb.log({\n",
    "            'train_loss': loss,  # ค่าความสูญเสียในการฝึก (Training loss)\n",
    "            'n_iter' : idx  # จำนวนการวนรอบ (Iteration count)\n",
    "        })\n",
    "\n",
    "        idx += 1  # เพิ่มค่าจำนวน Iteration\n",
    "\n",
    "    # เริ่ม validation loop (Validation loop: ใช้ accuracy เป็นเมตริกหลัก) (Validation loop for simplicity using accuracy as the primary metric)\n",
    "    model_conv1d_nn.eval()  # set โมเดลให้อยู่ในโหมด validation (Set the model to evaluation mode)\n",
    "    with torch.no_grad():  # ปิดการคำนวณ gradient สำหรับ validation (Disable gradient computation)\n",
    "        print(\"VALIDATION LOOP\")\n",
    "\n",
    "        # ตัวแปรเก็บข้อมูลสำหรับการ validation (Initialize variables for validation data)\n",
    "        val_loss = []\n",
    "        val_pred = []\n",
    "        val_true = []\n",
    "\n",
    "        for X_val, Y_val in tqdm(val_loader): # วนลูปแต่ละ batch ของ validation\n",
    "            X_val = X_val.long()\n",
    "            Y_pred = model_conv1d_nn(X_val)  # คำนวณค่าทำนายจาก validation (Make predictions on validation data)\n",
    "            loss = criterion(Y_pred, Y_val)  # คำนวณค่า loss (Calculate the loss)\n",
    "\n",
    "            # เก็บข้อมูล loss และค่าทำนายใน validation (Store loss and predictions)\n",
    "            val_loss.append(loss)\n",
    "            val_pred.append(Y_pred)\n",
    "            val_true.append(Y_val)\n",
    "\n",
    "        # คำนวณค่า loss และความแม่นยำเฉลี่ยในการ validation (Calculate average validation loss and accuracy)\n",
    "        avg_val_loss = torch.concatenate(val_loss, axis = 0).mean().item()  # ค่า loss เฉลี่ยในการ validation (Average validation loss)\n",
    "        val_pred = torch.concatenate(val_pred, axis = 0).cpu().detach().numpy()  # ค่าทำนายในการ validation (Validation predictions) #Tensor → NumPy Array\n",
    "        val_true = torch.concatenate(val_true, axis = 0).cpu().detach().numpy()  # ค่าจริงในการ validation (True values for validation) #Tensor → NumPy Array\n",
    "\n",
    "        # แปลงค่าทำนายเป็นคลาส (0 หรือ 1) (Convert predictions to class labels)\n",
    "        prob_to_class = lambda p: 1 if p[0]>=0.5 else 0\n",
    "        val_pred = np.apply_along_axis(prob_to_class,1,val_pred)\n",
    "\n",
    "        # คำนวณความแม่นยำในการ validation (Calculate accuracy)\n",
    "        val_acc = accuracy_score(val_true, val_pred)\n",
    "\n",
    "        print(\"val loss:\", avg_val_loss)  # แสดงค่า loss ของ validation (Print validation loss)\n",
    "        print(\"val accuracy:\", val_acc)  # แสดงความแม่นยำของ validation (Print validation accuracy)\n",
    "\n",
    "        # ถ้าความแม่นยำในการ validation ดีที่สุด ให้บันทึกโมเดล (Save the model if validation accuracy improves)\n",
    "        if(best_val_acc < val_acc):\n",
    "            best_val_acc = val_acc\n",
    "            torch.save(model_conv1d_nn.state_dict(), model_CNN_checkpoint_path_feedforward_nn)  # บันทึกพารามิเตอร์ของโมเดล (Save model parameters)\n",
    "\n",
    "        # บันทึกข้อมูลการ validation ใน WandB (Log validation accuracy and loss to WandB)\n",
    "        wandb.log({\n",
    "            'val_accuracy' : val_acc,  # ความแม่นยำในการ validation (Validation accuracy)\n",
    "            'val_loss': avg_val_loss,  # ค่า loss ของ validation (Validation loss)\n",
    "        })"
   ]
  },
  {
   "cell_type": "code",
   "execution_count": 30,
   "metadata": {},
   "outputs": [],
   "source": [
    "from sklearn.metrics import f1_score,precision_score,recall_score\n",
    "from sklearn.metrics import confusion_matrix\n",
    "import seaborn as sns\n",
    "\n",
    "################################################################################\n",
    "# A function to evaluate your model. This function must take test dataloader   #\n",
    "# and the input model to return f-score, precision, and recall of the model.   #\n",
    "################################################################################\n",
    "def evaluateCNN(test_loader, model):\n",
    "  \"\"\"\n",
    "  Evaluate model on the splitted 10 percent testing set.\n",
    "  \"\"\"\n",
    "  model.eval()\n",
    "  with torch.no_grad():\n",
    "    test_loss = []\n",
    "    test_pred = []\n",
    "    test_true = []\n",
    "    for X_test, Y_test in tqdm(test_loader):\n",
    "      X_test = X_test.long()\n",
    "      Y_pred = model(X_test)\n",
    "      loss = criterion(Y_pred, Y_test)\n",
    "      test_loss.append(loss)\n",
    "      test_pred.append(Y_pred)\n",
    "      test_true.append(Y_test)\n",
    "\n",
    "    avg_test_loss = torch.concatenate(test_loss, axis = 0).mean().item()\n",
    "    test_pred = torch.concatenate(test_pred, axis = 0).cpu().detach().numpy()\n",
    "    test_true = torch.concatenate(test_true, axis = 0).cpu().detach().numpy()\n",
    "\n",
    "    prob_to_class = lambda p: 1 if p[0]>=0.5 else 0\n",
    "    test_pred = np.apply_along_axis(prob_to_class,1,test_pred)\n",
    "\n",
    "    acc = accuracy_score(test_true, test_pred)\n",
    "    f1score = f1_score(test_true, test_pred)\n",
    "    precision = precision_score(test_true, test_pred)\n",
    "    recall = recall_score(test_true, test_pred)\n",
    "    \n",
    "   # Compute confusion matrix\n",
    "    conf_matrix = confusion_matrix(test_true, test_pred)\n",
    "\n",
    "    # Plot confusion matrix\n",
    "    plt.figure(figsize=(6, 5))\n",
    "    sns.heatmap(conf_matrix, annot=True, fmt=\"d\", cmap=\"Blues\", xticklabels=[0, 1], yticklabels=[0, 1])\n",
    "    plt.xlabel(\"Predicted Label\")\n",
    "    plt.ylabel(\"True Label\")\n",
    "    plt.title(\"Confusion Matrix\")\n",
    "    plt.show()\n",
    "\n",
    "  return acc, f1score, precision, recall, avg_test_loss\n",
    "\n",
    "def show_wrong_predictions_CNN(model, test_loader, criterion, device='cpu', context_size=10, idx_to_char=None):\n",
    "    model.eval()\n",
    "    wrong_samples = []\n",
    "\n",
    "    with torch.no_grad():\n",
    "        for X_test, Y_test in test_loader:\n",
    "            X_test, Y_test = X_test.to(device), Y_test.to(device)\n",
    "            X_test = X_test.long()\n",
    "            Y_pred = model(X_test)\n",
    "\n",
    "            # If multi-class classification, use argmax\n",
    "            pred_labels = (Y_pred > 0.5).cpu().numpy().flatten()\n",
    "            true_labels = Y_test.cpu().numpy().flatten()\n",
    "\n",
    "            # Find misclassified indices\n",
    "            misclassified_indices = np.where(pred_labels != true_labels)[0]\n",
    "\n",
    "            for idx in misclassified_indices:\n",
    "                # Extract input character indices for the corresponding sample\n",
    "                input_chars = X_test[idx].cpu().numpy()\n",
    "\n",
    "                # Convert to readable characters\n",
    "                char_context = convert_indices_to_chars(input_chars, idx_to_char) if idx_to_char else input_chars\n",
    "\n",
    "                wrong_samples.append((idx, true_labels[idx], pred_labels[idx], char_context))\n",
    "\n",
    "    # Print results\n",
    "    print(\"Misclassified samples with context:\")\n",
    "    for idx, true_label, pred_label, char_context in wrong_samples[:10]:  # Show a few wrong predictions\n",
    "        true_char = str(int(true_label))  # Convert to string to ensure proper formatting\n",
    "        pred_char = str(int(pred_label))  # Convert to string to ensure proper formatting\n",
    "        print(f\"Index: {idx}, True: {true_char}, Pred: {pred_char}, Context: {char_context}, Input_Char: {char_context[10]}\")\n",
    "\n",
    "    return wrong_samples"
   ]
  },
  {
   "cell_type": "code",
   "execution_count": 31,
   "metadata": {
    "id": "iFT1ZjZuGhau"
   },
   "outputs": [
    {
     "name": "stderr",
     "output_type": "stream",
     "text": [
      "100%|██████████| 4438/4438 [00:13<00:00, 320.21it/s]\n"
     ]
    },
    {
     "data": {
      "image/png": "[encoded data removed]",
      "text/plain": [
       "<Figure size 600x500 with 2 Axes>"
      ]
     },
     "metadata": {},
     "output_type": "display_data"
    },
    {
     "name": "stderr",
     "output_type": "stream",
     "text": [
      "C:\\Users\\Aitthikit\\AppData\\Local\\Temp\\ipykernel_34256\\1958045350.py:2: FutureWarning: You are using `torch.load` with `weights_only=False` (the current default value), which uses the default pickle module implicitly. It is possible to construct malicious pickle data which will execute arbitrary code during unpickling (See https://github.com/pytorch/pytorch/blob/main/SECURITY.md#untrusted-models for more details). In a future release, the default value for `weights_only` will be flipped to `True`. This limits the functions that could be executed during unpickling. Arbitrary objects will no longer be allowed to be loaded via this mode unless they are explicitly allowlisted by the user via `torch.serialization.add_safe_globals`. We recommend you start setting `weights_only=True` for any use case where you don't have full control of the loaded file. Please open an issue on GitHub for any issues related to this experimental feature.\n",
      "  model_conv1d_nn.load_state_dict(torch.load(model_CNN_checkpoint_path_feedforward_nn))\n"
     ]
    },
    {
     "name": "stdout",
     "output_type": "stream",
     "text": [
      "Misclassified samples with context:\n",
      "Index: 20, True: 0, Pred: 1, Context: ึกษา : มุมมองทางกระบว, Input_Char: ม\n",
      "Index: 32, True: 1, Pred: 0, Context: งทางกระบวนทัศน์และบริ, Input_Char: ท\n",
      "Index: 104, True: 1, Pred: 0, Context: erspectiveกระบวนทัศน์, Input_Char: ก\n",
      "Index: 110, True: 1, Pred: 0, Context: tiveกระบวนทัศน์และวิธ, Input_Char: ท\n",
      "Index: 165, True: 0, Pred: 1, Context: ศึกษาเรียนรู้\"ใน หลาย, Input_Char: ร\n",
      "Index: 228, True: 0, Pred: 1, Context: รด้านศึกษาศาสตร์ ครุศ, Input_Char: ศ\n",
      "Index: 294, True: 0, Pred: 1, Context: ะทรวงศึกษาธิการ ทบวงม, Input_Char: ธ\n",
      "Index: 315, True: 0, Pred: 1, Context: หาวิทยาลัยฯ มาอย่างต่, Input_Char: ฯ\n",
      "Index: 403, True: 1, Pred: 0, Context: าล) การจัดการศึกษาภาย, Input_Char: ก\n",
      "Index: 423, True: 1, Pred: 0, Context: ยใต้กระบวนทัศน์และวิธ, Input_Char: ท\n"
     ]
    },
    {
     "data": {
      "text/html": [],
      "text/plain": [
       "<IPython.core.display.HTML object>"
      ]
     },
     "metadata": {},
     "output_type": "display_data"
    },
    {
     "data": {
      "text/html": [
       "<br>    <style><br>        .wandb-row {<br>            display: flex;<br>            flex-direction: row;<br>            flex-wrap: wrap;<br>            justify-content: flex-start;<br>            width: 100%;<br>        }<br>        .wandb-col {<br>            display: flex;<br>            flex-direction: column;<br>            flex-basis: 100%;<br>            flex: 1;<br>            padding: 10px;<br>        }<br>    </style><br><div class=\"wandb-row\"><div class=\"wandb-col\"><h3>Run history:</h3><br/><table class=\"wandb\"><tr><td>n_iter</td><td>▁▁▁▂▂▂▂▃▃▃▃▃▃▃▃▄▄▅▅▅▅▅▅▅▆▆▆▆▆▇▇▇▇▇▇█████</td></tr><tr><td>train_loss</td><td>▇█▃▅▂▃▅▄▄▄▆▁▃▄▄▃▄▁▅▄▄▃▂▄▅▃▂▄▄▄▂▁▁▂▇▆▃▁█▅</td></tr><tr><td>val_accuracy</td><td>▁▅█</td></tr><tr><td>val_loss</td><td>█▄▁</td></tr></table><br/></div><div class=\"wandb-col\"><h3>Run summary:</h3><br/><table class=\"wandb\"><tr><td>n_iter</td><td>96455</td></tr><tr><td>train_loss</td><td>0.03094</td></tr><tr><td>val_accuracy</td><td>0.97079</td></tr><tr><td>val_loss</td><td>0.0816</td></tr></table><br/></div></div>"
      ],
      "text/plain": [
       "<IPython.core.display.HTML object>"
      ]
     },
     "metadata": {},
     "output_type": "display_data"
    },
    {
     "data": {
      "text/html": [
       " View run <strong style=\"color:#cdcd00\">CNN</strong> at: <a href='https://wandb.ai/memekhos001-kmutt/simpleff/runs/h37ioyvy' target=\"_blank\">https://wandb.ai/memekhos001-kmutt/simpleff/runs/h37ioyvy</a><br> View project at: <a href='https://wandb.ai/memekhos001-kmutt/simpleff' target=\"_blank\">https://wandb.ai/memekhos001-kmutt/simpleff</a><br>Synced 5 W&B file(s), 0 media file(s), 0 artifact file(s) and 0 other file(s)"
      ],
      "text/plain": [
       "<IPython.core.display.HTML object>"
      ]
     },
     "metadata": {},
     "output_type": "display_data"
    },
    {
     "data": {
      "text/html": [
       "Find logs at: <code>.\\wandb\\run-20250310_093926-h37ioyvy\\logs</code>"
      ],
      "text/plain": [
       "<IPython.core.display.HTML object>"
      ]
     },
     "metadata": {},
     "output_type": "display_data"
    },
    {
     "name": "stdout",
     "output_type": "stream",
     "text": [
      "(0.9717253861471206, 0.949866232951335, 0.9386999893565658, 0.961301329289387, 0.07837269455194473)\n"
     ]
    }
   ],
   "source": [
    "result = evaluateCNN(test_loader, model_conv1d_nn)\n",
    "model_conv1d_nn.load_state_dict(torch.load(model_CNN_checkpoint_path_feedforward_nn))\n",
    "test_loader = DataLoader(Dataset(x_test_char, y_test, dtype = 'float'), batch_size = BATCHS_SIZE)\n",
    "wrong_cases = show_wrong_predictions_CNN(model_conv1d_nn, test_loader, criterion, device=\"cuda\", idx_to_char=CHARS_MAP)\n",
    "wandb.finish() #ปิดการเชื่อมต่อกับ Weights & Biases\n",
    "print(result)"
   ]
  },
  {
   "cell_type": "markdown",
   "metadata": {
    "id": "ctS8V2rMGhax"
   },
   "source": [
    "# TODO 7, 8 - GRU\n",
    "\n",
    "Implement your GRU model with the following structure: input -> embedding layer (size 32) -> GRU layer (size 32) -> fully-connected layer (size 100) -> output.\n",
    "\n",
    "\n",
    "These parameters are simple guidelines to save your time. You can play with them in the final section.\n",
    "\n",
    "The result should be better than the feedforward model and at least on par with your CNN model.\n",
    "\n",
    "Do consult Pytorch documentation on how to use [embedding layers](https://pytorch.org/docs/stable/generated/torch.nn.Embedding.html) and [GRU](https://pytorch.org/docs/stable/generated/torch.nn.GRU.html).\n"
   ]
  },
  {
   "cell_type": "code",
   "execution_count": 32,
   "metadata": {
    "id": "HQbPtCKUGhay"
   },
   "outputs": [],
   "source": [
    "################################################################################\n",
    "# TODO#7                                                                       #\n",
    "# Write a function that returns GRU network moded. You can choose any          #\n",
    "# normalization methods, activation function, as well as any hyperparameter    #\n",
    "# the way you want. Your goal is to predict a score between [0,1] for each     #\n",
    "# input whether it is the beginning of the word or not.                        #\n",
    "#                                                                              #\n",
    "# Hint: You should read PyTorch documentation to see the list of available     #\n",
    "# layers and options you can use.                                              #\n",
    "################################################################################\n",
    "\n",
    "class SimpleGRU(torch.nn.Module):\n",
    " # การสร้างโมเดล (define model layers)\n",
    "  def __init__(self,dropout_rate = 0.1):\n",
    "    super(SimpleGRU, self).__init__() #ใช้เรียกฟังก์ชันของคลาสหลัก เพื่อให้สามารถใช้คุณสมบัติของ torch.nn.Module ได้\n",
    "    \n",
    "    self.embedding = torch.nn.Embedding(178,32)\n",
    "    self.gru = torch.nn.GRU(32,32,2)\n",
    "    \n",
    "    # self.conv1d = torch.nn.Conv1d(in_channels=32,out_channels=100,kernel_size=5,padding=\"same\")\n",
    "    # self.dense_time = torch.nn.Linear(100,5)\n",
    "    # self.flatten = torch.nn.Flatten()\n",
    "    # การกำหนดโครงสร้างของ Neural Network\n",
    "    # สร้างชั้นของ Fully Connected Layers (Define Fully Connected Layers) #โมเดลนี้มี 3 ชั้นซ่อน (Hidden Layers) และ 1 ชั้นเอาต์พุต (Output Layer)\n",
    "    self.mlp1 = torch.nn.Linear(32, 100)  # อินพุตมี 21 นิวรอน ส่งไปยัง 100 นิวรอน (Input: 21 neurons -> 100 neurons)\n",
    "    self.cls_head = torch.nn.Linear(100, 1)  # เอาต์พุตเป็น 1 นิวรอน (Output layer: 1 neuron)\n",
    "    self.dropout = torch.nn.Dropout(p=dropout_rate)\n",
    "    \n",
    "    # การกำหนดการไหลของข้อมูลในโมเดล\n",
    "  def forward(self, x):\n",
    "     # Embedding Layer\n",
    "      x = self.embedding(x)  # Output: (batch_size, 21, 32)\n",
    "      \n",
    "      # Conv1D Layer (Change shape for Conv1D)\n",
    "      # x = x.permute(0, 2, 1)  # Change shape to (batch_size, 32, 21) for Conv1D\n",
    "      x, _ = self.gru(x)  # Output: (batch_size, 100, ?)\n",
    "      x = x[:, -1, :]\n",
    "      # x = x.permute(0, 2, 1)  # Back to (batch_size, 21, 100)\n",
    "\n",
    "      # Dense across time (apply fully connected layer across time steps)\n",
    "      # x = F.relu(self.dense_time(x))  # Output: (batch_size, 21, 5)\n",
    "\n",
    "      # Flatten and Pass through MLP\n",
    "      # x = self.flatten(x)  # Output: (batch_size, 21*5)\n",
    "      x = F.relu(self.mlp1(x))\n",
    "      # x = F.relu(self.mlp2(x))\n",
    "      x = self.cls_head(x)  # No activation for final output\n",
    "      out = torch.sigmoid(x)  # ใช้ Sigmoid เพื่อให้ค่าผลลัพธ์อยู่ในช่วง [0,1] (Use Sigmoid to get values in the range [0,1])\n",
    "      return out"
   ]
  },
  {
   "cell_type": "code",
   "execution_count": 33,
   "metadata": {
    "id": "M3l0z_nUGha0"
   },
   "outputs": [
    {
     "name": "stdout",
     "output_type": "stream",
     "text": [
      "==========================================================================================\n",
      "Layer (type:depth-idx)                   Output Shape              Param #\n",
      "==========================================================================================\n",
      "SimpleGRU                                [1, 1]                    --\n",
      "├─Embedding: 1-1                         [1, 21, 32]               5,696\n",
      "├─GRU: 1-2                               [1, 21, 32]               12,672\n",
      "├─Linear: 1-3                            [1, 100]                  3,300\n",
      "├─Linear: 1-4                            [1, 1]                    101\n",
      "==========================================================================================\n",
      "Total params: 21,769\n",
      "Trainable params: 21,769\n",
      "Non-trainable params: 0\n",
      "Total mult-adds (Units.MEGABYTES): 0.28\n",
      "==========================================================================================\n",
      "Input size (MB): 0.00\n",
      "Forward/backward pass size (MB): 0.01\n",
      "Params size (MB): 0.09\n",
      "Estimated Total Size (MB): 0.10\n",
      "==========================================================================================\n"
     ]
    },
    {
     "data": {
      "text/html": [
       "Tracking run with wandb version 0.19.7"
      ],
      "text/plain": [
       "<IPython.core.display.HTML object>"
      ]
     },
     "metadata": {},
     "output_type": "display_data"
    },
    {
     "data": {
      "text/html": [
       "Run data is saved locally in <code>c:\\Users\\Aitthikit\\Desktop\\NLP\\wandb\\run-20250310_095551-ol3vi945</code>"
      ],
      "text/plain": [
       "<IPython.core.display.HTML object>"
      ]
     },
     "metadata": {},
     "output_type": "display_data"
    },
    {
     "data": {
      "text/html": [
       "Syncing run <strong><a href='https://wandb.ai/memekhos001-kmutt/simpleff/runs/ol3vi945' target=\"_blank\">GRU</a></strong> to <a href='https://wandb.ai/memekhos001-kmutt/simpleff' target=\"_blank\">Weights & Biases</a> (<a href='https://wandb.me/developer-guide' target=\"_blank\">docs</a>)<br>"
      ],
      "text/plain": [
       "<IPython.core.display.HTML object>"
      ]
     },
     "metadata": {},
     "output_type": "display_data"
    },
    {
     "data": {
      "text/html": [
       " View project at <a href='https://wandb.ai/memekhos001-kmutt/simpleff' target=\"_blank\">https://wandb.ai/memekhos001-kmutt/simpleff</a>"
      ],
      "text/plain": [
       "<IPython.core.display.HTML object>"
      ]
     },
     "metadata": {},
     "output_type": "display_data"
    },
    {
     "data": {
      "text/html": [
       " View run at <a href='https://wandb.ai/memekhos001-kmutt/simpleff/runs/ol3vi945' target=\"_blank\">https://wandb.ai/memekhos001-kmutt/simpleff/runs/ol3vi945</a>"
      ],
      "text/plain": [
       "<IPython.core.display.HTML object>"
      ]
     },
     "metadata": {},
     "output_type": "display_data"
    },
    {
     "data": {
      "text/html": [
       "<button onClick=\"this.nextSibling.style.display='block';this.style.display='none';\">Display W&B run</button><iframe src='https://wandb.ai/memekhos001-kmutt/simpleff/runs/ol3vi945?jupyter=true' style='border:none;width:100%;height:420px;display:none;'></iframe>"
      ],
      "text/plain": [
       "<wandb.sdk.wandb_run.Run at 0x203b68523d0>"
      ]
     },
     "execution_count": 33,
     "metadata": {},
     "output_type": "execute_result"
    }
   ],
   "source": [
    "################################################################################\n",
    "# TODO#8                                                                      #\n",
    "# Write code that perform a trainin loop on this dataset. Select your          #\n",
    "# batch size carefully as it will affect your model's ability to converge and  #\n",
    "# time needed for one epoch.                                                   #\n",
    "################################################################################\n",
    "model_gru_nn = SimpleGRU().cuda()\n",
    "# summary(model_gru_nn,  torch.zeros((64, 21), dtype = torch.long).cuda() ) #summarize the model\n",
    "################################################################################\n",
    "#                            WRITE YOUR CODE BELOW                             #\n",
    "################################################################################\n",
    "summary(model_gru_nn, input_size=(1, 21), dtypes = [torch.long])\n",
    "NUM_EPOCHS = 3 # จำนวนรอบการฝึก (epochs)\n",
    "model_GRU_checkpoint_path_feedforward_nn = './model_GRU.h5' # ไฟล์สำหรับบันทึกน้ำหนักของโมเดล\n",
    "criterion = torch.nn.BCELoss(reduction = 'none') # ฟังก์ชัน Loss สำหรับ Binary Classification\n",
    "BATCHS_SIZE = 512  # ขนาดของ Batch\n",
    "optimizer = optim.Adam(model_gru_nn.parameters(), lr=5e-4) # ใช้ Adam optimizer ในการอัปเดตค่าถ่วงน้ำหนัก\n",
    "eps = 1e-10 # ค่าคงที่ขนาดเล็กเพื่อป้องกันการหารด้วยศูนย์\n",
    "print(summary(model_gru_nn, input_size=(1, 21), dtypes = [torch.long]))\n",
    "\n",
    "wandb.init(project=\"simpleff\",name=\"GRU\")\n"
   ]
  },
  {
   "cell_type": "code",
   "execution_count": 35,
   "metadata": {},
   "outputs": [
    {
     "name": "stdout",
     "output_type": "stream",
     "text": [
      "EPOCH : 1\n",
      "TRAINING LOOP\n"
     ]
    },
    {
     "name": "stderr",
     "output_type": "stream",
     "text": [
      "100%|██████████| 32152/32152 [04:21<00:00, 123.16it/s]\n"
     ]
    },
    {
     "name": "stdout",
     "output_type": "stream",
     "text": [
      "VALIDATION LOOP\n"
     ]
    },
    {
     "name": "stderr",
     "output_type": "stream",
     "text": [
      "100%|██████████| 3976/3976 [00:16<00:00, 244.75it/s]\n"
     ]
    },
    {
     "name": "stdout",
     "output_type": "stream",
     "text": [
      "val loss: 0.0879795104265213\n",
      "val accuracy: 0.968247192357987\n",
      "EPOCH : 2\n",
      "TRAINING LOOP\n"
     ]
    },
    {
     "name": "stderr",
     "output_type": "stream",
     "text": [
      "100%|██████████| 32152/32152 [04:04<00:00, 131.50it/s]\n"
     ]
    },
    {
     "name": "stdout",
     "output_type": "stream",
     "text": [
      "VALIDATION LOOP\n"
     ]
    },
    {
     "name": "stderr",
     "output_type": "stream",
     "text": [
      "100%|██████████| 3976/3976 [00:14<00:00, 281.99it/s]\n"
     ]
    },
    {
     "name": "stdout",
     "output_type": "stream",
     "text": [
      "val loss: 0.0867331475019455\n",
      "val accuracy: 0.969034638801313\n",
      "EPOCH : 3\n",
      "TRAINING LOOP\n"
     ]
    },
    {
     "name": "stderr",
     "output_type": "stream",
     "text": [
      "100%|██████████| 32152/32152 [03:36<00:00, 148.35it/s]\n"
     ]
    },
    {
     "name": "stdout",
     "output_type": "stream",
     "text": [
      "VALIDATION LOOP\n"
     ]
    },
    {
     "name": "stderr",
     "output_type": "stream",
     "text": [
      "100%|██████████| 3976/3976 [00:14<00:00, 280.58it/s]\n"
     ]
    },
    {
     "name": "stdout",
     "output_type": "stream",
     "text": [
      "val loss: 0.08514031767845154\n",
      "val accuracy: 0.9696349254848715\n"
     ]
    }
   ],
   "source": [
    "# ติดตามการฝึกโมเดลด้วย Weights & Biases (Track the model training with Weights & Biases)\n",
    "wandb.watch(model_gru_nn, log='all')\n",
    "\n",
    "\n",
    "idx = 0 # ใช้นับจำนวนรอบการอัปเดตพารามิเตอร์ (iterations)\n",
    "best_val_acc = 0 #ใช้เก็บค่าความแม่นยำสูงสุดที่ได้จาก validation\n",
    "\n",
    "# เริ่มต้นรอบการฝึก (Training loop for NUM_EPOCHS)\n",
    "for n_epoch in range(NUM_EPOCHS):\n",
    "    print(\"EPOCH :\", n_epoch + 1)  # แสดงหมายเลขรอบฝึก (Print current epoch number)\n",
    "\n",
    "    model_gru_nn.train() # set โมเดลให้อยู่ในโหมดการฝึก (Set the model to training mode)\n",
    "    print(\"TRAINING LOOP\")\n",
    "\n",
    "    # วนลูปฝึกแต่ละ batch จาก train_loader (Iterate through training batches)\n",
    "    for X_train, Y_train in tqdm(train_loader): # วนลูปแต่ละ batch ของข้อมูลฝึก\n",
    "        # print(\"Before conversion:\", X_train.dtype)  # Should be torch.float32\n",
    "        X_train = X_train.long()\n",
    "        # print(\"After conversion:\", X_train.dtype)  # Should be torch.int64\n",
    "        # print(f\"Min index: {X_train.min()}, Max index: {X_train.max()}\")\n",
    "        # break\n",
    "        optimizer.zero_grad()  # เคลียร์ gradient ของรอบที่แล้ว (Clear gradients from previous step)\n",
    "        Y_pred = model_gru_nn(X_train)  # คำนวณค่าทำนาย (Make predictions)\n",
    "        loss = criterion(Y_pred, Y_train).mean()  # คำนวณ loss (Calculate the loss)\n",
    "        loss.backward()  # คำนวณ gradients (Backpropagation)\n",
    "        optimizer.step()  # อัปเดตพารามิเตอร์โมเดล (Update model parameters)\n",
    "\n",
    "        # บันทึกข้อมูลการฝึกใน WandB (Log training loss and iteration count to WandB)\n",
    "        wandb.log({\n",
    "            'train_loss': loss,  # ค่าความสูญเสียในการฝึก (Training loss)\n",
    "            'n_iter' : idx  # จำนวนการวนรอบ (Iteration count)\n",
    "        })\n",
    "\n",
    "        idx += 1  # เพิ่มค่าจำนวน Iteration\n",
    "\n",
    "    # เริ่ม validation loop (Validation loop: ใช้ accuracy เป็นเมตริกหลัก) (Validation loop for simplicity using accuracy as the primary metric)\n",
    "    model_gru_nn.eval()  # set โมเดลให้อยู่ในโหมด validation (Set the model to evaluation mode)\n",
    "    with torch.no_grad():  # ปิดการคำนวณ gradient สำหรับ validation (Disable gradient computation)\n",
    "        print(\"VALIDATION LOOP\")\n",
    "\n",
    "        # ตัวแปรเก็บข้อมูลสำหรับการ validation (Initialize variables for validation data)\n",
    "        val_loss = []\n",
    "        val_pred = []\n",
    "        val_true = []\n",
    "\n",
    "        for X_val, Y_val in tqdm(val_loader): # วนลูปแต่ละ batch ของ validation\n",
    "            X_val = X_val.long()\n",
    "            Y_pred = model_gru_nn(X_val)  # คำนวณค่าทำนายจาก validation (Make predictions on validation data)\n",
    "            loss = criterion(Y_pred, Y_val)  # คำนวณค่า loss (Calculate the loss)\n",
    "\n",
    "            # เก็บข้อมูล loss และค่าทำนายใน validation (Store loss and predictions)\n",
    "            val_loss.append(loss)\n",
    "            val_pred.append(Y_pred)\n",
    "            val_true.append(Y_val)\n",
    "\n",
    "        # คำนวณค่า loss และความแม่นยำเฉลี่ยในการ validation (Calculate average validation loss and accuracy)\n",
    "        avg_val_loss = torch.concatenate(val_loss, axis = 0).mean().item()  # ค่า loss เฉลี่ยในการ validation (Average validation loss)\n",
    "        val_pred = torch.concatenate(val_pred, axis = 0).cpu().detach().numpy()  # ค่าทำนายในการ validation (Validation predictions) #Tensor → NumPy Array\n",
    "        val_true = torch.concatenate(val_true, axis = 0).cpu().detach().numpy()  # ค่าจริงในการ validation (True values for validation) #Tensor → NumPy Array\n",
    "\n",
    "        # แปลงค่าทำนายเป็นคลาส (0 หรือ 1) (Convert predictions to class labels)\n",
    "        prob_to_class = lambda p: 1 if p[0]>=0.5 else 0\n",
    "        val_pred = np.apply_along_axis(prob_to_class,1,val_pred)\n",
    "\n",
    "        # คำนวณความแม่นยำในการ validation (Calculate accuracy)\n",
    "        val_acc = accuracy_score(val_true, val_pred)\n",
    "\n",
    "        print(\"val loss:\", avg_val_loss)  # แสดงค่า loss ของ validation (Print validation loss)\n",
    "        print(\"val accuracy:\", val_acc)  # แสดงความแม่นยำของ validation (Print validation accuracy)\n",
    "\n",
    "        # ถ้าความแม่นยำในการ validation ดีที่สุด ให้บันทึกโมเดล (Save the model if validation accuracy improves)\n",
    "        if(best_val_acc < val_acc):\n",
    "            best_val_acc = val_acc\n",
    "            torch.save(model_gru_nn.state_dict(), model_GRU_checkpoint_path_feedforward_nn)  # บันทึกพารามิเตอร์ของโมเดล (Save model parameters)\n",
    "\n",
    "        # บันทึกข้อมูลการ validation ใน WandB (Log validation accuracy and loss to WandB)\n",
    "        wandb.log({\n",
    "            'val_accuracy' : val_acc,  # ความแม่นยำในการ validation (Validation accuracy)\n",
    "            'val_loss': avg_val_loss,  # ค่า loss ของ validation (Validation loss)\n",
    "        })"
   ]
  },
  {
   "cell_type": "code",
   "execution_count": 37,
   "metadata": {
    "id": "MiYbLM1IGha2"
   },
   "outputs": [
    {
     "name": "stderr",
     "output_type": "stream",
     "text": [
      "100%|██████████| 4438/4438 [00:14<00:00, 310.20it/s]\n"
     ]
    },
    {
     "data": {
      "image/png": "[encoded data removed]",
      "text/plain": [
       "<Figure size 600x500 with 2 Axes>"
      ]
     },
     "metadata": {},
     "output_type": "display_data"
    },
    {
     "name": "stderr",
     "output_type": "stream",
     "text": [
      "C:\\Users\\Aitthikit\\AppData\\Local\\Temp\\ipykernel_34256\\1791378205.py:2: FutureWarning: You are using `torch.load` with `weights_only=False` (the current default value), which uses the default pickle module implicitly. It is possible to construct malicious pickle data which will execute arbitrary code during unpickling (See https://github.com/pytorch/pytorch/blob/main/SECURITY.md#untrusted-models for more details). In a future release, the default value for `weights_only` will be flipped to `True`. This limits the functions that could be executed during unpickling. Arbitrary objects will no longer be allowed to be loaded via this mode unless they are explicitly allowlisted by the user via `torch.serialization.add_safe_globals`. We recommend you start setting `weights_only=True` for any use case where you don't have full control of the loaded file. Please open an issue on GitHub for any issues related to this experimental feature.\n",
      "  model_gru_nn.load_state_dict(torch.load(model_GRU_checkpoint_path_feedforward_nn))\n"
     ]
    },
    {
     "name": "stdout",
     "output_type": "stream",
     "text": [
      "Misclassified samples with context:\n",
      "Index: 0, True: 1, Pred: 0, Context:           ปฏิรูปการศึ, Input_Char: ป\n",
      "Index: 6, True: 1, Pred: 0, Context:     ปฏิรูปการศึกษา : , Input_Char: ก\n",
      "Index: 9, True: 1, Pred: 0, Context:  ปฏิรูปการศึกษา : มุม, Input_Char: ศ\n",
      "Index: 20, True: 0, Pred: 1, Context: ึกษา : มุมมองทางกระบว, Input_Char: ม\n",
      "Index: 44, True: 0, Pred: 1, Context: ศน์และบริบทสังคมไทยTh, Input_Char: ท\n",
      "Index: 45, True: 1, Pred: 0, Context: น์และบริบทสังคมไทยThe, Input_Char: ส\n",
      "Index: 165, True: 0, Pred: 1, Context: ศึกษาเรียนรู้\"ใน หลาย, Input_Char: ร\n",
      "Index: 228, True: 0, Pred: 1, Context: รด้านศึกษาศาสตร์ ครุศ, Input_Char: ศ\n",
      "Index: 274, True: 0, Pred: 1, Context: งเรียน ครูอาจารย์ กระ, Input_Char: อ\n",
      "Index: 294, True: 0, Pred: 1, Context: ะทรวงศึกษาธิการ ทบวงม, Input_Char: ธ\n"
     ]
    },
    {
     "data": {
      "text/html": [],
      "text/plain": [
       "<IPython.core.display.HTML object>"
      ]
     },
     "metadata": {},
     "output_type": "display_data"
    },
    {
     "data": {
      "text/html": [
       "<br>    <style><br>        .wandb-row {<br>            display: flex;<br>            flex-direction: row;<br>            flex-wrap: wrap;<br>            justify-content: flex-start;<br>            width: 100%;<br>        }<br>        .wandb-col {<br>            display: flex;<br>            flex-direction: column;<br>            flex-basis: 100%;<br>            flex: 1;<br>            padding: 10px;<br>        }<br>    </style><br><div class=\"wandb-row\"><div class=\"wandb-col\"><h3>Run history:</h3><br/><table class=\"wandb\"><tr><td>n_iter</td><td>▁▁▁▁▁▂▂▂▃▄▄▅▅▅▅▆▆▆▇▇▇█▁▂▂▃▃▃▃▃▄▄▄▅▆▆▇▇██</td></tr><tr><td>train_loss</td><td>█▂▂▆▂▄▃▂▃▂▃▂▅▃▂▂▃▁▂▂▂▃▃▁▃▂▁▂▂▂▃▃▂▃▂▁▂▂▂▂</td></tr><tr><td>val_accuracy</td><td>▁▅▇██</td></tr><tr><td>val_loss</td><td>█▅▂▁▁</td></tr></table><br/></div><div class=\"wandb-col\"><h3>Run summary:</h3><br/><table class=\"wandb\"><tr><td>n_iter</td><td>96455</td></tr><tr><td>train_loss</td><td>0.03164</td></tr><tr><td>val_accuracy</td><td>0.96963</td></tr><tr><td>val_loss</td><td>0.08514</td></tr></table><br/></div></div>"
      ],
      "text/plain": [
       "<IPython.core.display.HTML object>"
      ]
     },
     "metadata": {},
     "output_type": "display_data"
    },
    {
     "data": {
      "text/html": [
       " View run <strong style=\"color:#cdcd00\">GRU</strong> at: <a href='https://wandb.ai/memekhos001-kmutt/simpleff/runs/ol3vi945' target=\"_blank\">https://wandb.ai/memekhos001-kmutt/simpleff/runs/ol3vi945</a><br> View project at: <a href='https://wandb.ai/memekhos001-kmutt/simpleff' target=\"_blank\">https://wandb.ai/memekhos001-kmutt/simpleff</a><br>Synced 5 W&B file(s), 0 media file(s), 0 artifact file(s) and 0 other file(s)"
      ],
      "text/plain": [
       "<IPython.core.display.HTML object>"
      ]
     },
     "metadata": {},
     "output_type": "display_data"
    },
    {
     "data": {
      "text/html": [
       "Find logs at: <code>.\\wandb\\run-20250310_095551-ol3vi945\\logs</code>"
      ],
      "text/plain": [
       "<IPython.core.display.HTML object>"
      ]
     },
     "metadata": {},
     "output_type": "display_data"
    },
    {
     "name": "stdout",
     "output_type": "stream",
     "text": [
      "(0.9701351096775784, 0.9475355202876419, 0.9280281114157187, 0.9678806403968122, 0.0829869732260704)\n"
     ]
    }
   ],
   "source": [
    "result = evaluateCNN(test_loader, model_gru_nn)\n",
    "model_gru_nn.load_state_dict(torch.load(model_GRU_checkpoint_path_feedforward_nn))\n",
    "test_loader = DataLoader(Dataset(x_test_char, y_test, dtype = 'float'), batch_size = BATCHS_SIZE)\n",
    "wrong_cases = show_wrong_predictions_CNN(model_gru_nn, test_loader, criterion, device=\"cuda\", idx_to_char=CHARS_MAP)\n",
    "wandb.finish() #ปิดการเชื่อมต่อกับ Weights & Biases\n",
    "print(result)"
   ]
  },
  {
   "cell_type": "markdown",
   "metadata": {
    "id": "kqgyzyMIGha4"
   },
   "source": [
    "# TODO 9, 10 - Final Section\n",
    "# PyTorch playground\n",
    "\n",
    "Now, train the best model you can do for this task. You can use any model structure and function available. Remember that training time increases with the complexity of the model. You might find wandb helpful in tuning of complicated models.\n",
    "\n",
    "Your model should be better than your CNN or GRU model in the previous sections.\n",
    "\n",
    "Some ideas to try\n",
    "1. Tune the parameters\n",
    "2. Bi-directional GRU\n",
    "3. CNN-GRU model\n",
    "4. Improve the learning rate scheduling"
   ]
  },
  {
   "cell_type": "code",
   "execution_count": 38,
   "metadata": {
    "id": "fIya6OYHGha4"
   },
   "outputs": [],
   "source": [
    "################################################################################\n",
    "# TODO#9                                                                       #\n",
    "# Write a class that returns your best model. You can use anything             #\n",
    "# you want. The goal here is to create the best model you can think of.        #\n",
    "# Your model should get f-score more than 97% from calling evaluate().         #\n",
    "#                                                                              #\n",
    "# Hint: You should read PyTorch documentation to see the list of available     #\n",
    "# layers and options you can use.                                              #\n",
    "################################################################################\n",
    "\n",
    "class BestModel(torch.nn.Module):\n",
    "    # การสร้างโมเดล (define model layers)\n",
    "  def __init__(self,dropout_rate = 0.1):\n",
    "    super(BestModel, self).__init__() #ใช้เรียกฟังก์ชันของคลาสหลัก เพื่อให้สามารถใช้คุณสมบัติของ torch.nn.Module ได้\n",
    "    \n",
    "    self.embedding = torch.nn.Embedding(178,32)\n",
    "    self.conv1d = torch.nn.Conv1d(in_channels=32,out_channels=100,kernel_size=5,padding=\"same\")\n",
    "    self.dense_time = torch.nn.Linear(100,5)\n",
    "    self.flatten = torch.nn.Flatten()\n",
    "    self.gru = torch.nn.GRU(21*5,100,1,bidirectional=True)\n",
    "    self.mlp1 = torch.nn.Linear(200, 100)  # อินพุตมี  นิวรอน ส่งไปยัง 100 นิวรอน (Input: 21 neurons -> 100 neurons)\n",
    "    self.cls_head = torch.nn.Linear(100, 1)  # เอาต์พุตเป็น 1 นิวรอน (Output layer: 1 neuron)\n",
    "    self.dropout = torch.nn.Dropout(p=dropout_rate)\n",
    "    \n",
    "    # การกำหนดการไหลของข้อมูลในโมเดล\n",
    "  def forward(self, x):\n",
    "     # Embedding Layer\n",
    "      x = self.embedding(x)  # Output: (batch_size, 21, 32)\n",
    "      \n",
    "      # Conv1D Layer (Change shape for Conv1D)\n",
    "      x = x.permute(0, 2, 1)  # Change shape to (batch_size, 32, 21) for Conv1D\n",
    "      x = F.relu(self.conv1d(x))  # Output: (batch_size, 100, ?)\n",
    "      x = x.permute(0, 2, 1)  # Back to (batch_size, 21, 100)\n",
    "      # Dense across time (apply fully connected layer across time steps)\n",
    "      x = F.relu(self.dense_time(x))  # Output: (batch_size, 21, 5)\n",
    "      \n",
    "      # Flatten and Pass through MLP\n",
    "      x = self.flatten(x)  # Output: (batch_size, 21*5)\n",
    "      \n",
    "      x, _ = self.gru(x)  # Output: (batch_size, 100, ?)\n",
    "      x = F.relu(self.mlp1(x))\n",
    "      x = self.dropout(x)\n",
    "      x = self.cls_head(x)  # No activation for final output\n",
    "      out = torch.sigmoid(x)  # ใช้ Sigmoid เพื่อให้ค่าผลลัพธ์อยู่ในช่วง [0,1] (Use Sigmoid to get values in the range [0,1])\n",
    "      return out"
   ]
  },
  {
   "cell_type": "code",
   "execution_count": 39,
   "metadata": {
    "id": "1mOriMKuGha7"
   },
   "outputs": [
    {
     "name": "stdout",
     "output_type": "stream",
     "text": [
      "start training\n",
      "==========================================================================================\n",
      "Layer (type:depth-idx)                   Output Shape              Param #\n",
      "==========================================================================================\n",
      "BestModel                                [1, 1]                    --\n",
      "├─Embedding: 1-1                         [1, 21, 32]               5,696\n",
      "├─Conv1d: 1-2                            [1, 100, 21]              16,100\n",
      "├─Linear: 1-3                            [1, 21, 5]                505\n",
      "├─Flatten: 1-4                           [1, 105]                  --\n",
      "├─GRU: 1-5                               [1, 200]                  124,200\n",
      "├─Linear: 1-6                            [1, 100]                  20,100\n",
      "├─Dropout: 1-7                           [1, 100]                  --\n",
      "├─Linear: 1-8                            [1, 1]                    101\n",
      "==========================================================================================\n",
      "Total params: 166,702\n",
      "Trainable params: 166,702\n",
      "Non-trainable params: 0\n",
      "Total mult-adds (Units.MEGABYTES): 25.20\n",
      "==========================================================================================\n",
      "Input size (MB): 0.00\n",
      "Forward/backward pass size (MB): 0.03\n",
      "Params size (MB): 0.67\n",
      "Estimated Total Size (MB): 0.69\n",
      "==========================================================================================\n"
     ]
    },
    {
     "data": {
      "text/html": [
       "Tracking run with wandb version 0.19.7"
      ],
      "text/plain": [
       "<IPython.core.display.HTML object>"
      ]
     },
     "metadata": {},
     "output_type": "display_data"
    },
    {
     "data": {
      "text/html": [
       "Run data is saved locally in <code>c:\\Users\\Aitthikit\\Desktop\\NLP\\wandb\\run-20250310_102856-cnis0s1b</code>"
      ],
      "text/plain": [
       "<IPython.core.display.HTML object>"
      ]
     },
     "metadata": {},
     "output_type": "display_data"
    },
    {
     "data": {
      "text/html": [
       "Syncing run <strong><a href='https://wandb.ai/memekhos001-kmutt/simpleff/runs/cnis0s1b' target=\"_blank\">Best_model</a></strong> to <a href='https://wandb.ai/memekhos001-kmutt/simpleff' target=\"_blank\">Weights & Biases</a> (<a href='https://wandb.me/developer-guide' target=\"_blank\">docs</a>)<br>"
      ],
      "text/plain": [
       "<IPython.core.display.HTML object>"
      ]
     },
     "metadata": {},
     "output_type": "display_data"
    },
    {
     "data": {
      "text/html": [
       " View project at <a href='https://wandb.ai/memekhos001-kmutt/simpleff' target=\"_blank\">https://wandb.ai/memekhos001-kmutt/simpleff</a>"
      ],
      "text/plain": [
       "<IPython.core.display.HTML object>"
      ]
     },
     "metadata": {},
     "output_type": "display_data"
    },
    {
     "data": {
      "text/html": [
       " View run at <a href='https://wandb.ai/memekhos001-kmutt/simpleff/runs/cnis0s1b' target=\"_blank\">https://wandb.ai/memekhos001-kmutt/simpleff/runs/cnis0s1b</a>"
      ],
      "text/plain": [
       "<IPython.core.display.HTML object>"
      ]
     },
     "metadata": {},
     "output_type": "display_data"
    },
    {
     "data": {
      "text/html": [
       "<button onClick=\"this.nextSibling.style.display='block';this.style.display='none';\">Display W&B run</button><iframe src='https://wandb.ai/memekhos001-kmutt/simpleff/runs/cnis0s1b?jupyter=true' style='border:none;width:100%;height:420px;display:none;'></iframe>"
      ],
      "text/plain": [
       "<wandb.sdk.wandb_run.Run at 0x20508915950>"
      ]
     },
     "execution_count": 39,
     "metadata": {},
     "output_type": "execute_result"
    }
   ],
   "source": [
    "################################################################################\n",
    "# TODO#10                                                                      #\n",
    "# Write code that perform a trainin loop on this dataset. Select your          #\n",
    "# batch size carefully as it will affect your model's ability to converge and  #\n",
    "# time needed for one epoch.                                                   #\n",
    "#                                                                              #\n",
    "################################################################################\n",
    "print('start training')\n",
    "my_best_model = BestModel().cuda()\n",
    "################################################################################\n",
    "#                            WRITE YOUR CODE BELOW                             #\n",
    "################################################################################\n",
    "summary(my_best_model, input_size=(1, 21), dtypes = [torch.long])\n",
    "NUM_EPOCHS = 10 # จำนวนรอบการฝึก (epochs)\n",
    "my_best_model_checkpoint_path_feedforward_nn = './model_Best.h5' # ไฟล์สำหรับบันทึกน้ำหนักของโมเดล\n",
    "criterion = torch.nn.BCELoss(reduction = 'none') # ฟังก์ชัน Loss สำหรับ Binary Classification\n",
    "BATCHS_SIZE = 512  # ขนาดของ Batch\n",
    "optimizer = optim.Adam(my_best_model.parameters(), lr=5e-4) # ใช้ Adam optimizer ในการอัปเดตค่าถ่วงน้ำหนัก\n",
    "eps = 1e-10 # ค่าคงที่ขนาดเล็กเพื่อป้องกันการหารด้วยศูนย์\n",
    "print(summary(my_best_model, input_size=(1, 21), dtypes = [torch.long]))\n",
    "\n",
    "wandb.init(project=\"simpleff\",name=\"Best_model\",config={\n",
    "    'architecture': 'CNN+GRU+Dropout',\n",
    "    'epochs': 10})\n"
   ]
  },
  {
   "cell_type": "code",
   "execution_count": 40,
   "metadata": {},
   "outputs": [
    {
     "name": "stdout",
     "output_type": "stream",
     "text": [
      "EPOCH : 1\n",
      "TRAINING LOOP\n"
     ]
    },
    {
     "name": "stderr",
     "output_type": "stream",
     "text": [
      "100%|██████████| 32152/32152 [03:52<00:00, 138.40it/s]\n"
     ]
    },
    {
     "name": "stdout",
     "output_type": "stream",
     "text": [
      "VALIDATION LOOP\n"
     ]
    },
    {
     "name": "stderr",
     "output_type": "stream",
     "text": [
      "100%|██████████| 3976/3976 [00:16<00:00, 240.53it/s]\n"
     ]
    },
    {
     "name": "stdout",
     "output_type": "stream",
     "text": [
      "val loss: 0.07418055832386017\n",
      "val accuracy: 0.9739671090055775\n",
      "EPOCH : 2\n",
      "TRAINING LOOP\n"
     ]
    },
    {
     "name": "stderr",
     "output_type": "stream",
     "text": [
      "100%|██████████| 32152/32152 [04:26<00:00, 120.57it/s]\n"
     ]
    },
    {
     "name": "stdout",
     "output_type": "stream",
     "text": [
      "VALIDATION LOOP\n"
     ]
    },
    {
     "name": "stderr",
     "output_type": "stream",
     "text": [
      "100%|██████████| 3976/3976 [00:13<00:00, 285.09it/s]\n"
     ]
    },
    {
     "name": "stdout",
     "output_type": "stream",
     "text": [
      "val loss: 0.05957268923521042\n",
      "val accuracy: 0.9789359304492719\n",
      "EPOCH : 3\n",
      "TRAINING LOOP\n"
     ]
    },
    {
     "name": "stderr",
     "output_type": "stream",
     "text": [
      "100%|██████████| 32152/32152 [02:53<00:00, 185.23it/s]\n"
     ]
    },
    {
     "name": "stdout",
     "output_type": "stream",
     "text": [
      "VALIDATION LOOP\n"
     ]
    },
    {
     "name": "stderr",
     "output_type": "stream",
     "text": [
      "100%|██████████| 3976/3976 [00:14<00:00, 283.19it/s]\n"
     ]
    },
    {
     "name": "stdout",
     "output_type": "stream",
     "text": [
      "val loss: 0.054674144834280014\n",
      "val accuracy: 0.9807878787283354\n",
      "EPOCH : 4\n",
      "TRAINING LOOP\n"
     ]
    },
    {
     "name": "stderr",
     "output_type": "stream",
     "text": [
      "100%|██████████| 32152/32152 [02:52<00:00, 186.43it/s]\n"
     ]
    },
    {
     "name": "stdout",
     "output_type": "stream",
     "text": [
      "VALIDATION LOOP\n"
     ]
    },
    {
     "name": "stderr",
     "output_type": "stream",
     "text": [
      "100%|██████████| 3976/3976 [00:12<00:00, 316.03it/s]\n"
     ]
    },
    {
     "name": "stdout",
     "output_type": "stream",
     "text": [
      "val loss: 0.05436629056930542\n",
      "val accuracy: 0.9812373568915564\n",
      "EPOCH : 5\n",
      "TRAINING LOOP\n"
     ]
    },
    {
     "name": "stderr",
     "output_type": "stream",
     "text": [
      "100%|██████████| 32152/32152 [03:16<00:00, 163.51it/s]\n"
     ]
    },
    {
     "name": "stdout",
     "output_type": "stream",
     "text": [
      "VALIDATION LOOP\n"
     ]
    },
    {
     "name": "stderr",
     "output_type": "stream",
     "text": [
      "100%|██████████| 3976/3976 [00:13<00:00, 297.11it/s]\n"
     ]
    },
    {
     "name": "stdout",
     "output_type": "stream",
     "text": [
      "val loss: 0.05210311710834503\n",
      "val accuracy: 0.982166769661845\n",
      "EPOCH : 6\n",
      "TRAINING LOOP\n"
     ]
    },
    {
     "name": "stderr",
     "output_type": "stream",
     "text": [
      "100%|██████████| 32152/32152 [02:54<00:00, 184.35it/s]\n"
     ]
    },
    {
     "name": "stdout",
     "output_type": "stream",
     "text": [
      "VALIDATION LOOP\n"
     ]
    },
    {
     "name": "stderr",
     "output_type": "stream",
     "text": [
      "100%|██████████| 3976/3976 [00:12<00:00, 313.34it/s]\n"
     ]
    },
    {
     "name": "stdout",
     "output_type": "stream",
     "text": [
      "val loss: 0.05094556882977486\n",
      "val accuracy: 0.982661932490836\n",
      "EPOCH : 7\n",
      "TRAINING LOOP\n"
     ]
    },
    {
     "name": "stderr",
     "output_type": "stream",
     "text": [
      "100%|██████████| 32152/32152 [02:52<00:00, 186.74it/s]\n"
     ]
    },
    {
     "name": "stdout",
     "output_type": "stream",
     "text": [
      "VALIDATION LOOP\n"
     ]
    },
    {
     "name": "stderr",
     "output_type": "stream",
     "text": [
      "100%|██████████| 3976/3976 [00:12<00:00, 314.50it/s]\n"
     ]
    },
    {
     "name": "stdout",
     "output_type": "stream",
     "text": [
      "val loss: 0.04973819851875305\n",
      "val accuracy: 0.9830342870785098\n",
      "EPOCH : 8\n",
      "TRAINING LOOP\n"
     ]
    },
    {
     "name": "stderr",
     "output_type": "stream",
     "text": [
      "100%|██████████| 32152/32152 [02:54<00:00, 184.14it/s]\n"
     ]
    },
    {
     "name": "stdout",
     "output_type": "stream",
     "text": [
      "VALIDATION LOOP\n"
     ]
    },
    {
     "name": "stderr",
     "output_type": "stream",
     "text": [
      "100%|██████████| 3976/3976 [00:12<00:00, 312.51it/s]\n"
     ]
    },
    {
     "name": "stdout",
     "output_type": "stream",
     "text": [
      "val loss: 0.05025271698832512\n",
      "val accuracy: 0.9830190588565865\n",
      "EPOCH : 9\n",
      "TRAINING LOOP\n"
     ]
    },
    {
     "name": "stderr",
     "output_type": "stream",
     "text": [
      "100%|██████████| 32152/32152 [02:55<00:00, 183.33it/s]\n"
     ]
    },
    {
     "name": "stdout",
     "output_type": "stream",
     "text": [
      "VALIDATION LOOP\n"
     ]
    },
    {
     "name": "stderr",
     "output_type": "stream",
     "text": [
      "100%|██████████| 3976/3976 [00:12<00:00, 310.17it/s]\n"
     ]
    },
    {
     "name": "stdout",
     "output_type": "stream",
     "text": [
      "val loss: 0.04968617483973503\n",
      "val accuracy: 0.9832160432756593\n",
      "EPOCH : 10\n",
      "TRAINING LOOP\n"
     ]
    },
    {
     "name": "stderr",
     "output_type": "stream",
     "text": [
      "100%|██████████| 32152/32152 [02:58<00:00, 180.31it/s]\n"
     ]
    },
    {
     "name": "stdout",
     "output_type": "stream",
     "text": [
      "VALIDATION LOOP\n"
     ]
    },
    {
     "name": "stderr",
     "output_type": "stream",
     "text": [
      "100%|██████████| 3976/3976 [00:13<00:00, 305.32it/s]\n"
     ]
    },
    {
     "name": "stdout",
     "output_type": "stream",
     "text": [
      "val loss: 0.04865240678191185\n",
      "val accuracy: 0.9836768197970814\n"
     ]
    }
   ],
   "source": [
    "# ติดตามการฝึกโมเดลด้วย Weights & Biases (Track the model training with Weights & Biases)\n",
    "wandb.watch(my_best_model, log='all')\n",
    "\n",
    "\n",
    "idx = 0 # ใช้นับจำนวนรอบการอัปเดตพารามิเตอร์ (iterations)\n",
    "best_val_acc = 0 #ใช้เก็บค่าความแม่นยำสูงสุดที่ได้จาก validation\n",
    "\n",
    "# เริ่มต้นรอบการฝึก (Training loop for NUM_EPOCHS)\n",
    "for n_epoch in range(NUM_EPOCHS):\n",
    "    print(\"EPOCH :\", n_epoch + 1)  # แสดงหมายเลขรอบฝึก (Print current epoch number)\n",
    "\n",
    "    my_best_model.train() # set โมเดลให้อยู่ในโหมดการฝึก (Set the model to training mode)\n",
    "    print(\"TRAINING LOOP\")\n",
    "\n",
    "    # วนลูปฝึกแต่ละ batch จาก train_loader (Iterate through training batches)\n",
    "    for X_train, Y_train in tqdm(train_loader): # วนลูปแต่ละ batch ของข้อมูลฝึก\n",
    "        # print(\"Before conversion:\", X_train.dtype)  # Should be torch.float32\n",
    "        X_train = X_train.long()\n",
    "        # print(\"After conversion:\", X_train.dtype)  # Should be torch.int64\n",
    "        # print(f\"Min index: {X_train.min()}, Max index: {X_train.max()}\")\n",
    "        # break\n",
    "        optimizer.zero_grad()  # เคลียร์ gradient ของรอบที่แล้ว (Clear gradients from previous step)\n",
    "        Y_pred = my_best_model(X_train)  # คำนวณค่าทำนาย (Make predictions)\n",
    "        loss = criterion(Y_pred, Y_train).mean()  # คำนวณ loss (Calculate the loss)\n",
    "        loss.backward()  # คำนวณ gradients (Backpropagation)\n",
    "        optimizer.step()  # อัปเดตพารามิเตอร์โมเดล (Update model parameters)\n",
    "\n",
    "        # บันทึกข้อมูลการฝึกใน WandB (Log training loss and iteration count to WandB)\n",
    "        wandb.log({\n",
    "            'train_loss': loss,  # ค่าความสูญเสียในการฝึก (Training loss)\n",
    "            'n_iter' : idx  # จำนวนการวนรอบ (Iteration count)\n",
    "        })\n",
    "\n",
    "        idx += 1  # เพิ่มค่าจำนวน Iteration\n",
    "\n",
    "    # เริ่ม validation loop (Validation loop: ใช้ accuracy เป็นเมตริกหลัก) (Validation loop for simplicity using accuracy as the primary metric)\n",
    "    my_best_model.eval()  # set โมเดลให้อยู่ในโหมด validation (Set the model to evaluation mode)\n",
    "    with torch.no_grad():  # ปิดการคำนวณ gradient สำหรับ validation (Disable gradient computation)\n",
    "        print(\"VALIDATION LOOP\")\n",
    "\n",
    "        # ตัวแปรเก็บข้อมูลสำหรับการ validation (Initialize variables for validation data)\n",
    "        val_loss = []\n",
    "        val_pred = []\n",
    "        val_true = []\n",
    "\n",
    "        for X_val, Y_val in tqdm(val_loader): # วนลูปแต่ละ batch ของ validation\n",
    "            X_val = X_val.long()\n",
    "            Y_pred = my_best_model(X_val)  # คำนวณค่าทำนายจาก validation (Make predictions on validation data)\n",
    "            loss = criterion(Y_pred, Y_val)  # คำนวณค่า loss (Calculate the loss)\n",
    "\n",
    "            # เก็บข้อมูล loss และค่าทำนายใน validation (Store loss and predictions)\n",
    "            val_loss.append(loss)\n",
    "            val_pred.append(Y_pred)\n",
    "            val_true.append(Y_val)\n",
    "\n",
    "        # คำนวณค่า loss และความแม่นยำเฉลี่ยในการ validation (Calculate average validation loss and accuracy)\n",
    "        avg_val_loss = torch.concatenate(val_loss, axis = 0).mean().item()  # ค่า loss เฉลี่ยในการ validation (Average validation loss)\n",
    "        val_pred = torch.concatenate(val_pred, axis = 0).cpu().detach().numpy()  # ค่าทำนายในการ validation (Validation predictions) #Tensor → NumPy Array\n",
    "        val_true = torch.concatenate(val_true, axis = 0).cpu().detach().numpy()  # ค่าจริงในการ validation (True values for validation) #Tensor → NumPy Array\n",
    "\n",
    "        # แปลงค่าทำนายเป็นคลาส (0 หรือ 1) (Convert predictions to class labels)\n",
    "        prob_to_class = lambda p: 1 if p[0]>=0.5 else 0\n",
    "        val_pred = np.apply_along_axis(prob_to_class,1,val_pred)\n",
    "\n",
    "        # คำนวณความแม่นยำในการ validation (Calculate accuracy)\n",
    "        val_acc = accuracy_score(val_true, val_pred)\n",
    "\n",
    "        print(\"val loss:\", avg_val_loss)  # แสดงค่า loss ของ validation (Print validation loss)\n",
    "        print(\"val accuracy:\", val_acc)  # แสดงความแม่นยำของ validation (Print validation accuracy)\n",
    "\n",
    "        # ถ้าความแม่นยำในการ validation ดีที่สุด ให้บันทึกโมเดล (Save the model if validation accuracy improves)\n",
    "        if(best_val_acc < val_acc):\n",
    "            best_val_acc = val_acc\n",
    "            torch.save(my_best_model.state_dict(), my_best_model_checkpoint_path_feedforward_nn)  # บันทึกพารามิเตอร์ของโมเดล (Save model parameters)\n",
    "\n",
    "        # บันทึกข้อมูลการ validation ใน WandB (Log validation accuracy and loss to WandB)\n",
    "        wandb.log({\n",
    "            'val_accuracy' : val_acc,  # ความแม่นยำในการ validation (Validation accuracy)\n",
    "            'val_loss': avg_val_loss,  # ค่า loss ของ validation (Validation loss)\n",
    "        })"
   ]
  },
  {
   "cell_type": "code",
   "execution_count": 41,
   "metadata": {
    "id": "7qn7-ew7Gha9"
   },
   "outputs": [
    {
     "name": "stderr",
     "output_type": "stream",
     "text": [
      "100%|██████████| 4438/4438 [00:14<00:00, 310.65it/s]\n"
     ]
    },
    {
     "data": {
      "image/png": "[encoded data removed]",
      "text/plain": [
       "<Figure size 600x500 with 2 Axes>"
      ]
     },
     "metadata": {},
     "output_type": "display_data"
    },
    {
     "name": "stderr",
     "output_type": "stream",
     "text": [
      "C:\\Users\\Aitthikit\\AppData\\Local\\Temp\\ipykernel_34256\\1773306405.py:2: FutureWarning: You are using `torch.load` with `weights_only=False` (the current default value), which uses the default pickle module implicitly. It is possible to construct malicious pickle data which will execute arbitrary code during unpickling (See https://github.com/pytorch/pytorch/blob/main/SECURITY.md#untrusted-models for more details). In a future release, the default value for `weights_only` will be flipped to `True`. This limits the functions that could be executed during unpickling. Arbitrary objects will no longer be allowed to be loaded via this mode unless they are explicitly allowlisted by the user via `torch.serialization.add_safe_globals`. We recommend you start setting `weights_only=True` for any use case where you don't have full control of the loaded file. Please open an issue on GitHub for any issues related to this experimental feature.\n",
      "  my_best_model.load_state_dict(torch.load(my_best_model_checkpoint_path_feedforward_nn))\n"
     ]
    },
    {
     "name": "stdout",
     "output_type": "stream",
     "text": [
      "Misclassified samples with context:\n",
      "Index: 32, True: 1, Pred: 0, Context: งทางกระบวนทัศน์และบริ, Input_Char: ท\n",
      "Index: 53, True: 1, Pred: 0, Context: บทสังคมไทยThe Reforma, Input_Char: T\n",
      "Index: 110, True: 1, Pred: 0, Context: tiveกระบวนทัศน์และวิธ, Input_Char: ท\n",
      "Index: 228, True: 0, Pred: 1, Context: รด้านศึกษาศาสตร์ ครุศ, Input_Char: ศ\n",
      "Index: 315, True: 0, Pred: 1, Context: หาวิทยาลัยฯ มาอย่างต่, Input_Char: ฯ\n",
      "Index: 403, True: 1, Pred: 0, Context: าล) การจัดการศึกษาภาย, Input_Char: ก\n",
      "Index: 423, True: 1, Pred: 0, Context: ยใต้กระบวนทัศน์และวิธ, Input_Char: ท\n",
      "Index: 38, True: 1, Pred: 0, Context: วของการจัดการศึกษาเพื, Input_Char: ก\n",
      "Index: 82, True: 0, Pred: 1, Context: ธรรมเสื่อมถอย ยาเสพติ, Input_Char: ถ\n",
      "Index: 188, True: 1, Pred: 0, Context: ษาในกระบวนทัศน์แบบแยก, Input_Char: ท\n"
     ]
    },
    {
     "data": {
      "text/html": [],
      "text/plain": [
       "<IPython.core.display.HTML object>"
      ]
     },
     "metadata": {},
     "output_type": "display_data"
    },
    {
     "data": {
      "text/html": [
       "<br>    <style><br>        .wandb-row {<br>            display: flex;<br>            flex-direction: row;<br>            flex-wrap: wrap;<br>            justify-content: flex-start;<br>            width: 100%;<br>        }<br>        .wandb-col {<br>            display: flex;<br>            flex-direction: column;<br>            flex-basis: 100%;<br>            flex: 1;<br>            padding: 10px;<br>        }<br>    </style><br><div class=\"wandb-row\"><div class=\"wandb-col\"><h3>Run history:</h3><br/><table class=\"wandb\"><tr><td>n_iter</td><td>▁▁▂▂▂▂▃▃▃▃▃▃▃▃▃▃▄▄▄▄▅▅▅▅▅▅▆▆▆▆▆▆▇▇▇▇▇███</td></tr><tr><td>train_loss</td><td>▇▂▇▂▂▅▂█▁▁▃▄▁▂▃▁▄▃█▂▁▄▁▃▁▂▁▁▁▃▁▁▆▂▂▂▃▄▅▁</td></tr><tr><td>val_accuracy</td><td>▁▅▆▆▇▇████</td></tr><tr><td>val_loss</td><td>█▄▃▃▂▂▁▁▁▁</td></tr></table><br/></div><div class=\"wandb-col\"><h3>Run summary:</h3><br/><table class=\"wandb\"><tr><td>n_iter</td><td>321519</td></tr><tr><td>train_loss</td><td>0.01253</td></tr><tr><td>val_accuracy</td><td>0.98368</td></tr><tr><td>val_loss</td><td>0.04865</td></tr></table><br/></div></div>"
      ],
      "text/plain": [
       "<IPython.core.display.HTML object>"
      ]
     },
     "metadata": {},
     "output_type": "display_data"
    },
    {
     "data": {
      "text/html": [
       " View run <strong style=\"color:#cdcd00\">Best_model</strong> at: <a href='https://wandb.ai/memekhos001-kmutt/simpleff/runs/cnis0s1b' target=\"_blank\">https://wandb.ai/memekhos001-kmutt/simpleff/runs/cnis0s1b</a><br> View project at: <a href='https://wandb.ai/memekhos001-kmutt/simpleff' target=\"_blank\">https://wandb.ai/memekhos001-kmutt/simpleff</a><br>Synced 5 W&B file(s), 0 media file(s), 0 artifact file(s) and 0 other file(s)"
      ],
      "text/plain": [
       "<IPython.core.display.HTML object>"
      ]
     },
     "metadata": {},
     "output_type": "display_data"
    },
    {
     "data": {
      "text/html": [
       "Find logs at: <code>.\\wandb\\run-20250310_102856-cnis0s1b\\logs</code>"
      ],
      "text/plain": [
       "<IPython.core.display.HTML object>"
      ]
     },
     "metadata": {},
     "output_type": "display_data"
    },
    {
     "name": "stdout",
     "output_type": "stream",
     "text": [
      "(0.9844396751311218, 0.972350057408514, 0.9629611269211524, 0.9819238758698039, 0.046493951231241226)\n"
     ]
    }
   ],
   "source": [
    "result = evaluateCNN(test_loader, my_best_model)\n",
    "my_best_model.load_state_dict(torch.load(my_best_model_checkpoint_path_feedforward_nn))\n",
    "test_loader = DataLoader(Dataset(x_test_char, y_test, dtype = 'float'), batch_size = BATCHS_SIZE)\n",
    "wrong_cases = show_wrong_predictions_CNN(my_best_model, test_loader, criterion, device=\"cuda\", idx_to_char=CHARS_MAP)\n",
    "wandb.finish() #ปิดการเชื่อมต่อกับ Weights & Biases\n",
    "print(result)"
   ]
  }
 ],
 "metadata": {
  "accelerator": "GPU",
  "colab": {
   "gpuType": "T4",
   "provenance": []
  },
  "kernelspec": {
   "display_name": "venv",
   "language": "python",
   "name": "python3"
  },
  "language_info": {
   "codemirror_mode": {
    "name": "ipython",
    "version": 3
   },
   "file_extension": ".py",
   "mimetype": "text/x-python",
   "name": "python",
   "nbconvert_exporter": "python",
   "pygments_lexer": "ipython3",
   "version": "3.11.9"
  }
 },
 "nbformat": 4,
 "nbformat_minor": 0
}
